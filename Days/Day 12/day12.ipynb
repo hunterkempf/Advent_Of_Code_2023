{
 "cells": [
  {
   "cell_type": "markdown",
   "metadata": {},
   "source": [
    "--- Day 12: Hot Springs ---\n",
    "\n",
    "You finally reach the hot springs! You can see steam rising from secluded areas attached to the primary, ornate building.\n",
    "\n",
    "As you turn to enter, the researcher stops you. \"Wait - I thought you were looking for the hot springs, weren't you?\" You indicate that this definitely looks like hot springs to you.\n",
    "\n",
    "\"Oh, sorry, common mistake! This is actually the onsen! The hot springs are next door.\"\n",
    "\n",
    "You look in the direction the researcher is pointing and suddenly notice the massive metal helixes towering overhead. \"This way!\"\n",
    "\n",
    "It only takes you a few more steps to reach the main gate of the massive fenced-off area containing the springs. You go through the gate and into a small administrative building.\n",
    "\n",
    "\"Hello! What brings you to the hot springs today? Sorry they're not very hot right now; we're having a lava shortage at the moment.\" You ask about the missing machine parts for Desert Island.\n",
    "\n",
    "\"Oh, all of Gear Island is currently offline! Nothing is being manufactured at the moment, not until we get more lava to heat our forges. And our springs. The springs aren't very springy unless they're hot!\"\n",
    "\n",
    "\"Say, could you go up and see why the lava stopped flowing? The springs are too cold for normal operation, but we should be able to find one springy enough to launch you up there!\"\n",
    "\n",
    "There's just one problem - many of the springs have fallen into disrepair, so they're not actually sure which springs would even be safe to use! Worse yet, their condition records of which springs are damaged (your puzzle input) are also damaged! You'll need to help them repair the damaged records.\n",
    "\n",
    "In the giant field just outside, the springs are arranged into rows. For each row, the condition records show every spring and whether it is operational (.) or damaged (#). This is the part of the condition records that is itself damaged; for some springs, it is simply unknown (?) whether the spring is operational or damaged.\n",
    "\n",
    "However, the engineer that produced the condition records also duplicated some of this information in a different format! After the list of springs for a given row, the size of each contiguous group of damaged springs is listed in the order those groups appear in the row. This list always accounts for every damaged spring, and each number is the entire size of its contiguous group (that is, groups are always separated by at least one operational spring: #### would always be 4, never 2,2).\n",
    "\n",
    "So, condition records with no unknown spring conditions might look like this:\n",
    "```\n",
    "#.#.### 1,1,3\n",
    ".#...#....###. 1,1,3\n",
    ".#.###.#.###### 1,3,1,6\n",
    "####.#...#... 4,1,1\n",
    "#....######..#####. 1,6,5\n",
    ".###.##....# 3,2,1\n",
    "```\n",
    "However, the condition records are partially damaged; some of the springs' conditions are actually unknown (?). For example:\n",
    "```\n",
    "???.### 1,1,3\n",
    ".??..??...?##. 1,1,3\n",
    "?#?#?#?#?#?#?#? 1,3,1,6\n",
    "????.#...#... 4,1,1\n",
    "????.######..#####. 1,6,5\n",
    "?###???????? 3,2,1\n",
    "```\n",
    "Equipped with this information, it is your job to figure out how many different arrangements of operational and broken springs fit the given criteria in each row.\n",
    "\n",
    "In the first line (???.### 1,1,3), there is exactly one way separate groups of one, one, and three broken springs (in that order) can appear in that row: the first three unknown springs must be broken, then operational, then broken (#.#), making the whole row #.#.###.\n",
    "\n",
    "The second line is more interesting: .??..??...?##. 1,1,3 could be a total of four different arrangements. The last ? must always be broken (to satisfy the final contiguous group of three broken springs), and each ?? must hide exactly one of the two broken springs. (Neither ?? could be both broken springs or they would form a single contiguous group of two; if that were true, the numbers afterward would have been 2,3 instead.) Since each ?? can either be #. or .#, there are four possible arrangements of springs.\n",
    "\n",
    "The last line is actually consistent with ten different arrangements! Because the first number is 3, the first and second ? must both be . (if either were #, the first number would have to be 4 or higher). However, the remaining run of unknown spring conditions have many different ways they could hold groups of two and one broken springs:\n",
    "```\n",
    "?###???????? 3,2,1\n",
    ".###.##.#...\n",
    ".###.##..#..\n",
    ".###.##...#.\n",
    ".###.##....#\n",
    ".###..##.#..\n",
    ".###..##..#.\n",
    ".###..##...#\n",
    ".###...##.#.\n",
    ".###...##..#\n",
    ".###....##.#\n",
    "```\n",
    "In this example, the number of possible arrangements for each row is:\n",
    "\n",
    "- ???.### 1,1,3 - 1 arrangement\n",
    "- .??..??...?##. 1,1,3 - 4 arrangements\n",
    "- ?#?#?#?#?#?#?#? 1,3,1,6 - 1 arrangement\n",
    "- ????.#...#... 4,1,1 - 1 arrangement\n",
    "- ????.######..#####. 1,6,5 - 4 arrangements\n",
    "- ?###???????? 3,2,1 - 10 arrangements\n",
    "\n",
    "Adding all of the possible arrangement counts together produces a total of 21 arrangements.\n",
    "\n",
    "For each row, count all of the different arrangements of operational and broken springs that meet the given criteria. What is the sum of those counts?"
   ]
  },
  {
   "cell_type": "code",
   "execution_count": 27,
   "metadata": {},
   "outputs": [
    {
     "name": "stdout",
     "output_type": "stream",
     "text": [
      "????.??#?#?#.??? 1,2,7,1\n",
      "\n"
     ]
    }
   ],
   "source": [
    "with open(\"input.txt\",\"r\") as f:\n",
    "    lines = f.readlines()"
   ]
  },
  {
   "cell_type": "code",
   "execution_count": 9,
   "metadata": {},
   "outputs": [],
   "source": [
    "test_lines = [\n",
    "\"#.#.### 1,1,3\",\n",
    "\".#...#....###. 1,1,3\",\n",
    "\".#.###.#.###### 1,3,1,6\",\n",
    "\"####.#...#... 4,1,1\",\n",
    "\"#....######..#####. 1,6,5\",\n",
    "\".###.##....# 3,2,1\",\n",
    "\"?###???????? 3,2,1\"\n",
    "]"
   ]
  },
  {
   "cell_type": "code",
   "execution_count": 20,
   "metadata": {},
   "outputs": [],
   "source": [
    "test_lines2 = [\n",
    "\"???.### 1,1,3\",\n",
    "\".??..??...?##. 1,1,3\",\n",
    "\"?#?#?#?#?#?#?#? 1,3,1,6\",\n",
    "\"????.#...#... 4,1,1\",\n",
    "\"????.######..#####. 1,6,5\",\n",
    "\"?###???????? 3,2,1\"\n",
    "]"
   ]
  },
  {
   "cell_type": "code",
   "execution_count": 38,
   "metadata": {},
   "outputs": [
    {
     "data": {
      "text/plain": [
       "7361"
      ]
     },
     "execution_count": 38,
     "metadata": {},
     "output_type": "execute_result"
    }
   ],
   "source": [
    "def check_spring_counts(springs,counts):\n",
    "    counts = counts.replace(\"\\n\",\"\")\n",
    "    broken_springs_groups = springs.split(\".\")\n",
    "    broken_spring_group_lengths = []\n",
    "    for spring_group in broken_springs_groups:\n",
    "        if spring_group != \"\":\n",
    "            broken_spring_group_lengths.append(str(len(spring_group)))\n",
    "    return \",\".join(broken_spring_group_lengths)== counts\n",
    "\n",
    "def generate_permutations(springs):\n",
    "    question_pos = []\n",
    "    for pos,char in enumerate(springs):\n",
    "        if char==\"?\":\n",
    "            question_pos.append(pos)\n",
    "    \n",
    "    output_permutations = [springs]\n",
    "    for pos in question_pos:\n",
    "        new_output_permutations = []\n",
    "        for output in output_permutations:\n",
    "            broken_pos_string = output\n",
    "            broken_pos_array = list(output)\n",
    "            broken_pos_array[pos] = '#'\n",
    "            broken_pos_string = ''.join(broken_pos_array)\n",
    "            new_output_permutations.append(broken_pos_string)\n",
    "            operational_pos_array = list(output)\n",
    "            operational_pos_array[pos] = '.'\n",
    "            operational_pos_string = ''.join(operational_pos_array)\n",
    "            new_output_permutations.append(operational_pos_string)\n",
    "        output_permutations = new_output_permutations\n",
    "    return output_permutations\n",
    "            \n",
    "\n",
    "total_sum = 0\n",
    "for line in lines:\n",
    "    springs,counts = line.split(\" \")\n",
    "    springs_permutations = generate_permutations(springs)\n",
    "    count = 0\n",
    "    for springs_permutation in springs_permutations:\n",
    "        if check_spring_counts(springs_permutation,counts):\n",
    "            count +=1\n",
    "    total_sum += count\n",
    "total_sum"
   ]
  },
  {
   "cell_type": "markdown",
   "metadata": {},
   "source": [
    "--- Part Two ---\n",
    "\n",
    "As you look out at the field of springs, you feel like there are way more springs than the condition records list. When you examine the records, you discover that they were actually folded up this whole time!\n",
    "\n",
    "To unfold the records, on each row, replace the list of spring conditions with five copies of itself (separated by ?) and replace the list of contiguous groups of damaged springs with five copies of itself (separated by ,).\n",
    "\n",
    "So, this row:\n",
    "\n",
    ".# 1\n",
    "Would become:\n",
    "\n",
    ".#?.#?.#?.#?.# 1,1,1,1,1\n",
    "The first line of the above example would become:\n",
    "\n",
    "???.###????.###????.###????.###????.### 1,1,3,1,1,3,1,1,3,1,1,3,1,1,3\n",
    "In the above example, after unfolding, the number of possible arrangements for some rows is now much larger:\n",
    "\n",
    "- ???.### 1,1,3 - 1 arrangement\n",
    "- .??..??...?##. 1,1,3 - 16384 arrangements\n",
    "- ?#?#?#?#?#?#?#? 1,3,1,6 - 1 arrangement\n",
    "- ????.#...#... 4,1,1 - 16 arrangements\n",
    "- ????.######..#####. 1,6,5 - 2500 arrangements\n",
    "- ?###???????? 3,2,1 - 506250 arrangements\n",
    "\n",
    "After unfolding, adding all of the possible arrangement counts together produces 525152.\n",
    "\n",
    "Unfold your condition records; what is the new sum of possible arrangement counts?"
   ]
  },
  {
   "cell_type": "code",
   "execution_count": null,
   "metadata": {},
   "outputs": [],
   "source": [
    "from tqdm.notebook import tqdm"
   ]
  },
  {
   "cell_type": "code",
   "execution_count": 45,
   "metadata": {},
   "outputs": [
    {
     "ename": "MemoryError",
     "evalue": "",
     "output_type": "error",
     "traceback": [
      "\u001b[1;31m---------------------------------------------------------------------------\u001b[0m",
      "\u001b[1;31mMemoryError\u001b[0m                               Traceback (most recent call last)",
      "\u001b[1;32m~\\AppData\\Local\\Temp/ipykernel_41356/2377834996.py\u001b[0m in \u001b[0;36m<module>\u001b[1;34m\u001b[0m\n\u001b[0;32m     28\u001b[0m     \u001b[0msprings_unfolded\u001b[0m \u001b[1;33m=\u001b[0m \u001b[1;34m\"?\"\u001b[0m\u001b[1;33m.\u001b[0m\u001b[0mjoin\u001b[0m\u001b[1;33m(\u001b[0m\u001b[0msprings_arr\u001b[0m\u001b[1;33m)\u001b[0m\u001b[1;33m\u001b[0m\u001b[1;33m\u001b[0m\u001b[0m\n\u001b[0;32m     29\u001b[0m     \u001b[0mcounts_unfolded\u001b[0m \u001b[1;33m=\u001b[0m \u001b[1;34m\",\"\u001b[0m\u001b[1;33m.\u001b[0m\u001b[0mjoin\u001b[0m\u001b[1;33m(\u001b[0m\u001b[1;33m[\u001b[0m\u001b[0mcounts\u001b[0m\u001b[1;33m]\u001b[0m\u001b[1;33m*\u001b[0m\u001b[1;36m5\u001b[0m\u001b[1;33m)\u001b[0m\u001b[1;33m\u001b[0m\u001b[1;33m\u001b[0m\u001b[0m\n\u001b[1;32m---> 30\u001b[1;33m     \u001b[0msprings_permutations\u001b[0m \u001b[1;33m=\u001b[0m \u001b[0mgenerate_permutations\u001b[0m\u001b[1;33m(\u001b[0m\u001b[0msprings_unfolded\u001b[0m\u001b[1;33m)\u001b[0m\u001b[1;33m\u001b[0m\u001b[1;33m\u001b[0m\u001b[0m\n\u001b[0m\u001b[0;32m     31\u001b[0m     \u001b[0mcount\u001b[0m \u001b[1;33m=\u001b[0m \u001b[1;36m0\u001b[0m\u001b[1;33m\u001b[0m\u001b[1;33m\u001b[0m\u001b[0m\n\u001b[0;32m     32\u001b[0m     \u001b[1;32mfor\u001b[0m \u001b[0msprings_permutation\u001b[0m \u001b[1;32min\u001b[0m \u001b[0msprings_permutations\u001b[0m\u001b[1;33m:\u001b[0m\u001b[1;33m\u001b[0m\u001b[1;33m\u001b[0m\u001b[0m\n",
      "\u001b[1;32m~\\AppData\\Local\\Temp/ipykernel_41356/2377834996.py\u001b[0m in \u001b[0;36mgenerate_permutations\u001b[1;34m(springs)\u001b[0m\n\u001b[0;32m     13\u001b[0m             \u001b[0mbroken_pos_array\u001b[0m\u001b[1;33m[\u001b[0m\u001b[0mpos\u001b[0m\u001b[1;33m]\u001b[0m \u001b[1;33m=\u001b[0m \u001b[1;34m'#'\u001b[0m\u001b[1;33m\u001b[0m\u001b[1;33m\u001b[0m\u001b[0m\n\u001b[0;32m     14\u001b[0m             \u001b[0mbroken_pos_string\u001b[0m \u001b[1;33m=\u001b[0m \u001b[1;34m''\u001b[0m\u001b[1;33m.\u001b[0m\u001b[0mjoin\u001b[0m\u001b[1;33m(\u001b[0m\u001b[0mbroken_pos_array\u001b[0m\u001b[1;33m)\u001b[0m\u001b[1;33m\u001b[0m\u001b[1;33m\u001b[0m\u001b[0m\n\u001b[1;32m---> 15\u001b[1;33m             \u001b[0mnew_output_permutations\u001b[0m\u001b[1;33m.\u001b[0m\u001b[0mappend\u001b[0m\u001b[1;33m(\u001b[0m\u001b[0mbroken_pos_string\u001b[0m\u001b[1;33m)\u001b[0m\u001b[1;33m\u001b[0m\u001b[1;33m\u001b[0m\u001b[0m\n\u001b[0m\u001b[0;32m     16\u001b[0m             \u001b[0moperational_pos_array\u001b[0m \u001b[1;33m=\u001b[0m \u001b[0mlist\u001b[0m\u001b[1;33m(\u001b[0m\u001b[0moutput\u001b[0m\u001b[1;33m)\u001b[0m\u001b[1;33m\u001b[0m\u001b[1;33m\u001b[0m\u001b[0m\n\u001b[0;32m     17\u001b[0m             \u001b[0moperational_pos_array\u001b[0m\u001b[1;33m[\u001b[0m\u001b[0mpos\u001b[0m\u001b[1;33m]\u001b[0m \u001b[1;33m=\u001b[0m \u001b[1;34m'.'\u001b[0m\u001b[1;33m\u001b[0m\u001b[1;33m\u001b[0m\u001b[0m\n",
      "\u001b[1;31mMemoryError\u001b[0m: "
     ]
    }
   ],
   "source": [
    "def generate_permutations(springs):\n",
    "    question_pos = []\n",
    "    for pos,char in enumerate(springs):\n",
    "        if char==\"?\":\n",
    "            question_pos.append(pos)\n",
    "    \n",
    "    output_permutations = [springs]\n",
    "    for pos in question_pos:\n",
    "        new_output_permutations = []\n",
    "        for output in output_permutations:\n",
    "            broken_pos_string = output\n",
    "            broken_pos_array = list(output)\n",
    "            broken_pos_array[pos] = '#'\n",
    "            broken_pos_string = ''.join(broken_pos_array)\n",
    "            new_output_permutations.append(broken_pos_string)\n",
    "            operational_pos_array = list(output)\n",
    "            operational_pos_array[pos] = '.'\n",
    "            operational_pos_string = ''.join(operational_pos_array)\n",
    "            new_output_permutations.append(operational_pos_string)\n",
    "        output_permutations = new_output_permutations\n",
    "    return output_permutations\n",
    "            \n",
    "\n",
    "total_sum = 0\n",
    "for line in tqdm(test_lines2):\n",
    "    springs,counts = line.split(\" \")\n",
    "    springs_arr = [springs]*5\n",
    "    springs_unfolded = \"?\".join(springs_arr)\n",
    "    counts_unfolded = \",\".join([counts]*5)\n",
    "    springs_permutations = generate_permutations(springs_unfolded)\n",
    "    count = 0\n",
    "    for springs_permutation in springs_permutations:\n",
    "        if check_spring_counts(springs_permutation,counts_unfolded):\n",
    "            count +=1\n",
    "    total_sum += count\n",
    "total_sum"
   ]
  },
  {
   "cell_type": "code",
   "execution_count": null,
   "metadata": {},
   "outputs": [],
   "source": []
  }
 ],
 "metadata": {
  "kernelspec": {
   "display_name": "Python 3",
   "language": "python",
   "name": "python3"
  },
  "language_info": {
   "codemirror_mode": {
    "name": "ipython",
    "version": 3
   },
   "file_extension": ".py",
   "mimetype": "text/x-python",
   "name": "python",
   "nbconvert_exporter": "python",
   "pygments_lexer": "ipython3",
   "version": "3.9.5"
  }
 },
 "nbformat": 4,
 "nbformat_minor": 2
}
