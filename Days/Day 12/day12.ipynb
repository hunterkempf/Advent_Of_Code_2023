{
 "cells": [
  {
   "cell_type": "code",
   "execution_count": 27,
   "metadata": {},
   "outputs": [
    {
     "name": "stdout",
     "output_type": "stream",
     "text": [
      "????.??#?#?#.??? 1,2,7,1\n",
      "\n"
     ]
    }
   ],
   "source": [
    "with open(\"input.txt\",\"r\") as f:\n",
    "    lines = f.readlines()\n",
    "print(lines[0])"
   ]
  },
  {
   "cell_type": "code",
   "execution_count": 9,
   "metadata": {},
   "outputs": [],
   "source": [
    "test_lines = [\n",
    "\"#.#.### 1,1,3\",\n",
    "\".#...#....###. 1,1,3\",\n",
    "\".#.###.#.###### 1,3,1,6\",\n",
    "\"####.#...#... 4,1,1\",\n",
    "\"#....######..#####. 1,6,5\",\n",
    "\".###.##....# 3,2,1\",\n",
    "\"?###???????? 3,2,1\"\n",
    "]"
   ]
  },
  {
   "cell_type": "code",
   "execution_count": 20,
   "metadata": {},
   "outputs": [],
   "source": [
    "test_lines2 = [\n",
    "\"???.### 1,1,3\",\n",
    "\".??..??...?##. 1,1,3\",\n",
    "\"?#?#?#?#?#?#?#? 1,3,1,6\",\n",
    "\"????.#...#... 4,1,1\",\n",
    "\"????.######..#####. 1,6,5\",\n",
    "\"?###???????? 3,2,1\"\n",
    "]"
   ]
  },
  {
   "cell_type": "code",
   "execution_count": 38,
   "metadata": {},
   "outputs": [
    {
     "data": {
      "text/plain": [
       "7361"
      ]
     },
     "execution_count": 38,
     "metadata": {},
     "output_type": "execute_result"
    }
   ],
   "source": [
    "def check_spring_counts(springs,counts):\n",
    "    counts = counts.replace(\"\\n\",\"\")\n",
    "    broken_springs_groups = springs.split(\".\")\n",
    "    broken_spring_group_lengths = []\n",
    "    for spring_group in broken_springs_groups:\n",
    "        if spring_group != \"\":\n",
    "            broken_spring_group_lengths.append(str(len(spring_group)))\n",
    "    return \",\".join(broken_spring_group_lengths)== counts\n",
    "\n",
    "def generate_permutations(springs):\n",
    "    question_pos = []\n",
    "    for pos,char in enumerate(springs):\n",
    "        if char==\"?\":\n",
    "            question_pos.append(pos)\n",
    "    \n",
    "    output_permutations = [springs]\n",
    "    for pos in question_pos:\n",
    "        new_output_permutations = []\n",
    "        for output in output_permutations:\n",
    "            broken_pos_string = output\n",
    "            broken_pos_array = list(output)\n",
    "            broken_pos_array[pos] = '#'\n",
    "            broken_pos_string = ''.join(broken_pos_array)\n",
    "            new_output_permutations.append(broken_pos_string)\n",
    "            operational_pos_array = list(output)\n",
    "            operational_pos_array[pos] = '.'\n",
    "            operational_pos_string = ''.join(operational_pos_array)\n",
    "            new_output_permutations.append(operational_pos_string)\n",
    "        output_permutations = new_output_permutations\n",
    "    return output_permutations\n",
    "            \n",
    "\n",
    "total_sum = 0\n",
    "for line in lines:\n",
    "    springs,counts = line.split(\" \")\n",
    "    springs_permutations = generate_permutations(springs)\n",
    "    count = 0\n",
    "    for springs_permutation in springs_permutations:\n",
    "        if check_spring_counts(springs_permutation,counts):\n",
    "            count +=1\n",
    "    total_sum += count\n",
    "total_sum"
   ]
  },
  {
   "cell_type": "code",
   "execution_count": null,
   "metadata": {},
   "outputs": [],
   "source": [
    "from tqdm.notebook import tqdm"
   ]
  },
  {
   "cell_type": "code",
   "execution_count": 45,
   "metadata": {},
   "outputs": [
    {
     "ename": "MemoryError",
     "evalue": "",
     "output_type": "error",
     "traceback": [
      "\u001b[1;31m---------------------------------------------------------------------------\u001b[0m",
      "\u001b[1;31mMemoryError\u001b[0m                               Traceback (most recent call last)",
      "\u001b[1;32m~\\AppData\\Local\\Temp/ipykernel_41356/2377834996.py\u001b[0m in \u001b[0;36m<module>\u001b[1;34m\u001b[0m\n\u001b[0;32m     28\u001b[0m     \u001b[0msprings_unfolded\u001b[0m \u001b[1;33m=\u001b[0m \u001b[1;34m\"?\"\u001b[0m\u001b[1;33m.\u001b[0m\u001b[0mjoin\u001b[0m\u001b[1;33m(\u001b[0m\u001b[0msprings_arr\u001b[0m\u001b[1;33m)\u001b[0m\u001b[1;33m\u001b[0m\u001b[1;33m\u001b[0m\u001b[0m\n\u001b[0;32m     29\u001b[0m     \u001b[0mcounts_unfolded\u001b[0m \u001b[1;33m=\u001b[0m \u001b[1;34m\",\"\u001b[0m\u001b[1;33m.\u001b[0m\u001b[0mjoin\u001b[0m\u001b[1;33m(\u001b[0m\u001b[1;33m[\u001b[0m\u001b[0mcounts\u001b[0m\u001b[1;33m]\u001b[0m\u001b[1;33m*\u001b[0m\u001b[1;36m5\u001b[0m\u001b[1;33m)\u001b[0m\u001b[1;33m\u001b[0m\u001b[1;33m\u001b[0m\u001b[0m\n\u001b[1;32m---> 30\u001b[1;33m     \u001b[0msprings_permutations\u001b[0m \u001b[1;33m=\u001b[0m \u001b[0mgenerate_permutations\u001b[0m\u001b[1;33m(\u001b[0m\u001b[0msprings_unfolded\u001b[0m\u001b[1;33m)\u001b[0m\u001b[1;33m\u001b[0m\u001b[1;33m\u001b[0m\u001b[0m\n\u001b[0m\u001b[0;32m     31\u001b[0m     \u001b[0mcount\u001b[0m \u001b[1;33m=\u001b[0m \u001b[1;36m0\u001b[0m\u001b[1;33m\u001b[0m\u001b[1;33m\u001b[0m\u001b[0m\n\u001b[0;32m     32\u001b[0m     \u001b[1;32mfor\u001b[0m \u001b[0msprings_permutation\u001b[0m \u001b[1;32min\u001b[0m \u001b[0msprings_permutations\u001b[0m\u001b[1;33m:\u001b[0m\u001b[1;33m\u001b[0m\u001b[1;33m\u001b[0m\u001b[0m\n",
      "\u001b[1;32m~\\AppData\\Local\\Temp/ipykernel_41356/2377834996.py\u001b[0m in \u001b[0;36mgenerate_permutations\u001b[1;34m(springs)\u001b[0m\n\u001b[0;32m     13\u001b[0m             \u001b[0mbroken_pos_array\u001b[0m\u001b[1;33m[\u001b[0m\u001b[0mpos\u001b[0m\u001b[1;33m]\u001b[0m \u001b[1;33m=\u001b[0m \u001b[1;34m'#'\u001b[0m\u001b[1;33m\u001b[0m\u001b[1;33m\u001b[0m\u001b[0m\n\u001b[0;32m     14\u001b[0m             \u001b[0mbroken_pos_string\u001b[0m \u001b[1;33m=\u001b[0m \u001b[1;34m''\u001b[0m\u001b[1;33m.\u001b[0m\u001b[0mjoin\u001b[0m\u001b[1;33m(\u001b[0m\u001b[0mbroken_pos_array\u001b[0m\u001b[1;33m)\u001b[0m\u001b[1;33m\u001b[0m\u001b[1;33m\u001b[0m\u001b[0m\n\u001b[1;32m---> 15\u001b[1;33m             \u001b[0mnew_output_permutations\u001b[0m\u001b[1;33m.\u001b[0m\u001b[0mappend\u001b[0m\u001b[1;33m(\u001b[0m\u001b[0mbroken_pos_string\u001b[0m\u001b[1;33m)\u001b[0m\u001b[1;33m\u001b[0m\u001b[1;33m\u001b[0m\u001b[0m\n\u001b[0m\u001b[0;32m     16\u001b[0m             \u001b[0moperational_pos_array\u001b[0m \u001b[1;33m=\u001b[0m \u001b[0mlist\u001b[0m\u001b[1;33m(\u001b[0m\u001b[0moutput\u001b[0m\u001b[1;33m)\u001b[0m\u001b[1;33m\u001b[0m\u001b[1;33m\u001b[0m\u001b[0m\n\u001b[0;32m     17\u001b[0m             \u001b[0moperational_pos_array\u001b[0m\u001b[1;33m[\u001b[0m\u001b[0mpos\u001b[0m\u001b[1;33m]\u001b[0m \u001b[1;33m=\u001b[0m \u001b[1;34m'.'\u001b[0m\u001b[1;33m\u001b[0m\u001b[1;33m\u001b[0m\u001b[0m\n",
      "\u001b[1;31mMemoryError\u001b[0m: "
     ]
    }
   ],
   "source": [
    "def generate_permutations(springs):\n",
    "    question_pos = []\n",
    "    for pos,char in enumerate(springs):\n",
    "        if char==\"?\":\n",
    "            question_pos.append(pos)\n",
    "    \n",
    "    output_permutations = [springs]\n",
    "    for pos in question_pos:\n",
    "        new_output_permutations = []\n",
    "        for output in output_permutations:\n",
    "            broken_pos_string = output\n",
    "            broken_pos_array = list(output)\n",
    "            broken_pos_array[pos] = '#'\n",
    "            broken_pos_string = ''.join(broken_pos_array)\n",
    "            new_output_permutations.append(broken_pos_string)\n",
    "            operational_pos_array = list(output)\n",
    "            operational_pos_array[pos] = '.'\n",
    "            operational_pos_string = ''.join(operational_pos_array)\n",
    "            new_output_permutations.append(operational_pos_string)\n",
    "        output_permutations = new_output_permutations\n",
    "    return output_permutations\n",
    "            \n",
    "\n",
    "total_sum = 0\n",
    "for line in tqdm(test_lines2):\n",
    "    springs,counts = line.split(\" \")\n",
    "    springs_arr = [springs]*5\n",
    "    springs_unfolded = \"?\".join(springs_arr)\n",
    "    counts_unfolded = \",\".join([counts]*5)\n",
    "    springs_permutations = generate_permutations(springs_unfolded)\n",
    "    count = 0\n",
    "    for springs_permutation in springs_permutations:\n",
    "        if check_spring_counts(springs_permutation,counts_unfolded):\n",
    "            count +=1\n",
    "    total_sum += count\n",
    "total_sum"
   ]
  },
  {
   "cell_type": "code",
   "execution_count": null,
   "metadata": {},
   "outputs": [],
   "source": []
  }
 ],
 "metadata": {
  "kernelspec": {
   "display_name": "Python 3",
   "language": "python",
   "name": "python3"
  },
  "language_info": {
   "codemirror_mode": {
    "name": "ipython",
    "version": 3
   },
   "file_extension": ".py",
   "mimetype": "text/x-python",
   "name": "python",
   "nbconvert_exporter": "python",
   "pygments_lexer": "ipython3",
   "version": "3.9.5"
  }
 },
 "nbformat": 4,
 "nbformat_minor": 2
}
