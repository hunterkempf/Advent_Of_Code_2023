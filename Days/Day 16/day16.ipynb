{
 "cells": [
  {
   "cell_type": "code",
   "execution_count": 6,
   "metadata": {},
   "outputs": [],
   "source": [
    "with open(\"input.txt\",\"r\") as f:\n",
    "    lines = f.readlines()"
   ]
  },
  {
   "cell_type": "code",
   "execution_count": 1,
   "metadata": {},
   "outputs": [],
   "source": [
    "test_lines = \"\"\".|...\\....\n",
    "|.-.\\.....\n",
    ".....|-...\n",
    "........|.\n",
    "..........\n",
    ".........\\\\\n",
    "..../.\\\\\\\\..\n",
    ".-.-/..|..\n",
    ".|....-|.\\\\\n",
    "..//.|....\"\"\"\n"
   ]
  },
  {
   "cell_type": "code",
   "execution_count": 92,
   "metadata": {},
   "outputs": [],
   "source": [
    "base_map=[]\n",
    "def get_beam_dirs(beam_start_pos_dir, beam_map,prev_moves):\n",
    "    y_start,x_start,dir_start = beam_start_pos_dir\n",
    "    #print(x_start,y_start,dir_start,prev_moves.get(f\"{y_start},{x_start},{dir_start}\",\"NOT IN PREV_MOVES\"))\n",
    "    output_beam_map = base_map\n",
    "    if (x_start >0)and(x_start <len(beam_map[0]))and(y_start >0)and(y_start <len(beam_map)):\n",
    "        output_beam_map[y_start][x_start] = \"#\"\n",
    "    if dir_start == \"up\":\n",
    "        # trace beam up until top of map or mirror/splitter\n",
    "        for y_pos in range(y_start-1,-1,-1):\n",
    "            if beam_map[y_pos][x_start] in (\".\",\"|\"):\n",
    "                output_beam_map[y_pos][x_start] = \"#\"\n",
    "            elif beam_map[y_pos][x_start]==\"/\":\n",
    "                output_beam_map[y_pos][x_start] = \"#\"\n",
    "                #output_beams_pos_dir.append((y_pos,x_start,\"right\"))\n",
    "                if prev_moves.get(f\"{y_pos},{x_start},right\",None) is None:\n",
    "                    prev_moves[f\"{y_pos},{x_start},right\"] = prev_moves.get(f\"{y_pos},{x_start},right\",0) + 1\n",
    "                    temp_output_beam_map,temp_prev_moves = get_beam_dirs((y_pos,x_start,\"right\"),beam_map,prev_moves)\n",
    "                    prev_moves.update(temp_prev_moves)\n",
    "                    for row_num,row in enumerate(temp_output_beam_map):\n",
    "                        for col_num,col in enumerate(row):\n",
    "                            if temp_output_beam_map[row_num][col_num] == \"#\":\n",
    "                                output_beam_map[row_num][col_num] = \"#\"\n",
    "                    \n",
    "                break\n",
    "            elif beam_map[y_pos][x_start]==\"\\\\\":\n",
    "                output_beam_map[y_pos][x_start] = \"#\"\n",
    "                #output_beams_pos_dir.append((y_pos,x_start,\"left\"))\n",
    "                if prev_moves.get(f\"{y_pos},{x_start},left\",None) is None:\n",
    "                    prev_moves[f\"{y_pos},{x_start},left\"] = prev_moves.get(f\"{y_pos},{x_start},left\",0) + 1\n",
    "                    temp_output_beam_map,temp_prev_moves = get_beam_dirs((y_pos,x_start,\"left\"),beam_map,prev_moves)\n",
    "                    prev_moves.update(temp_prev_moves)\n",
    "                    for row_num,row in enumerate(temp_output_beam_map):\n",
    "                        for col_num,col in enumerate(row):\n",
    "                            if temp_output_beam_map[row_num][col_num] == \"#\":\n",
    "                                output_beam_map[row_num][col_num] = \"#\"\n",
    "                    \n",
    "                break\n",
    "            elif beam_map[y_pos][x_start]==\"-\":\n",
    "                output_beam_map[y_pos][x_start] = \"#\"\n",
    "                #output_beams_pos_dir.append((y_pos,x_start,\"left\"))\n",
    "                if prev_moves.get(f\"{y_pos},{x_start},left\",None) is None:\n",
    "                    prev_moves[f\"{y_pos},{x_start},left\"] = prev_moves.get(f\"{y_pos},{x_start},left\",0) + 1\n",
    "                    temp_output_beam_map,temp_prev_moves = get_beam_dirs((y_pos,x_start,\"left\"),beam_map,prev_moves)\n",
    "                    prev_moves.update(temp_prev_moves)\n",
    "                    for row_num,row in enumerate(temp_output_beam_map):\n",
    "                        for col_num,col in enumerate(row):\n",
    "                            if temp_output_beam_map[row_num][col_num] == \"#\":\n",
    "                                output_beam_map[row_num][col_num] = \"#\"\n",
    "                    \n",
    "                #output_beams_pos_dir.append((y_pos,x_start,\"right\"))\n",
    "                if prev_moves.get(f\"{y_pos},{x_start},right\",None) is None:\n",
    "                    prev_moves[f\"{y_pos},{x_start},right\"] = prev_moves.get(f\"{y_pos},{x_start},right\",0) + 1\n",
    "                    temp_output_beam_map,temp_prev_moves = get_beam_dirs((y_pos,x_start,\"right\"),beam_map,prev_moves)\n",
    "                    prev_moves.update(temp_prev_moves)\n",
    "                    for row_num,row in enumerate(temp_output_beam_map):\n",
    "                        for col_num,col in enumerate(row):\n",
    "                            if temp_output_beam_map[row_num][col_num] == \"#\":\n",
    "                                output_beam_map[row_num][col_num] = \"#\"\n",
    "                    \n",
    "                break\n",
    "    elif dir_start == \"down\":\n",
    "        # trace beam down until bottom of map or mirror/splitter\n",
    "        #print(\"down\",y_start,x_start)\n",
    "        for y_pos in range(y_start+1,len(beam_map),1):\n",
    "            #print(\"down\",y_pos,x_start)\n",
    "            if beam_map[y_pos][x_start] in (\".\",\"|\"):\n",
    "                output_beam_map[y_pos][x_start] = \"#\"\n",
    "            elif beam_map[y_pos][x_start]==\"/\":\n",
    "                output_beam_map[y_pos][x_start] = \"#\"\n",
    "                #output_beams_pos_dir.append((y_pos,x_start,\"left\"))\n",
    "                if prev_moves.get(f\"{y_pos},{x_start},left\",None) is None:\n",
    "                    prev_moves[f\"{y_pos},{x_start},left\"] = prev_moves.get(f\"{y_pos},{x_start},left\",0) + 1\n",
    "                    temp_output_beam_map,temp_prev_moves = get_beam_dirs((y_pos,x_start,\"left\"),beam_map,prev_moves)\n",
    "                    prev_moves.update(temp_prev_moves)\n",
    "                    for row_num,row in enumerate(temp_output_beam_map):\n",
    "                        for col_num,col in enumerate(row):\n",
    "                            if temp_output_beam_map[row_num][col_num] == \"#\":\n",
    "                                output_beam_map[row_num][col_num] = \"#\"\n",
    "                    \n",
    "                break\n",
    "            elif beam_map[y_pos][x_start]==\"\\\\\":\n",
    "                output_beam_map[y_pos][x_start] = \"#\"\n",
    "                #output_beams_pos_dir.append((y_pos,x_start,\"right\"))\n",
    "                if prev_moves.get(f\"{y_pos},{x_start},right\",None) is None:\n",
    "                    prev_moves[f\"{y_pos},{x_start},right\"] = prev_moves.get(f\"{y_pos},{x_start},right\",0) + 1\n",
    "                    temp_output_beam_map,temp_prev_moves = get_beam_dirs((y_pos,x_start,\"right\"),beam_map,prev_moves)\n",
    "                    prev_moves.update(temp_prev_moves)\n",
    "                    for row_num,row in enumerate(temp_output_beam_map):\n",
    "                        for col_num,col in enumerate(row):\n",
    "                            if temp_output_beam_map[row_num][col_num] == \"#\":\n",
    "                                output_beam_map[row_num][col_num] = \"#\"\n",
    "                    \n",
    "                break\n",
    "            elif beam_map[y_pos][x_start]==\"-\":\n",
    "                output_beam_map[y_pos][x_start] = \"#\"\n",
    "                #output_beams_pos_dir.append((y_pos,x_start,\"left\"))\n",
    "                if prev_moves.get(f\"{y_pos},{x_start},left\",None) is None:\n",
    "                    prev_moves[f\"{y_pos},{x_start},left\"] = prev_moves.get(f\"{y_pos},{x_start},left\",0)+ 1\n",
    "                    temp_output_beam_map,temp_prev_moves = get_beam_dirs((y_pos,x_start,\"left\"),beam_map,prev_moves)\n",
    "                    prev_moves.update(temp_prev_moves)\n",
    "                    for row_num,row in enumerate(temp_output_beam_map):\n",
    "                        for col_num,col in enumerate(row):\n",
    "                            if temp_output_beam_map[row_num][col_num] == \"#\":\n",
    "                                output_beam_map[row_num][col_num] = \"#\"\n",
    "                    \n",
    "                #output_beams_pos_dir.append((y_pos,x_start,\"right\"))\n",
    "                if prev_moves.get(f\"{y_pos},{x_start},right\",None) is None:\n",
    "                    prev_moves[f\"{y_pos},{x_start},right\"] = prev_moves.get(f\"{y_pos},{x_start},right\",0) + 1\n",
    "                    temp_output_beam_map,temp_prev_moves = get_beam_dirs((y_pos,x_start,\"right\"),beam_map,prev_moves)\n",
    "                    prev_moves.update(temp_prev_moves)\n",
    "                    for row_num,row in enumerate(temp_output_beam_map):\n",
    "                        for col_num,col in enumerate(row):\n",
    "                            if temp_output_beam_map[row_num][col_num] == \"#\":\n",
    "                                output_beam_map[row_num][col_num] = \"#\"\n",
    "                    \n",
    "                break\n",
    "    elif dir_start == \"left\":\n",
    "        # trace beam left until left edge of map or mirror/splitter\n",
    "        for x_pos in range(x_start-1,-1,-1):\n",
    "            if beam_map[y_start][x_pos] in (\".\",\"-\"):\n",
    "                output_beam_map[y_start][x_pos] = \"#\"\n",
    "            elif beam_map[y_start][x_pos]==\"/\":\n",
    "                output_beam_map[y_start][x_pos] = \"#\"\n",
    "                #output_beams_pos_dir.append((y_start,x_pos,\"down\"))\n",
    "                if prev_moves.get(f\"{y_start},{x_pos},down\",None) is None:\n",
    "                    prev_moves[f\"{y_start},{x_pos},down\"] = prev_moves.get(f\"{y_start},{x_pos},down\",0)+ 1\n",
    "                    temp_output_beam_map,temp_prev_moves = get_beam_dirs((y_start,x_pos,\"down\"),beam_map,prev_moves)\n",
    "                    prev_moves.update(temp_prev_moves)\n",
    "                    for row_num,row in enumerate(temp_output_beam_map):\n",
    "                        for col_num,col in enumerate(row):\n",
    "                            if temp_output_beam_map[row_num][col_num] == \"#\":\n",
    "                                output_beam_map[row_num][col_num] = \"#\"\n",
    "                break\n",
    "            elif beam_map[y_start][x_pos]==\"\\\\\":\n",
    "                output_beam_map[y_start][x_pos] = \"#\"\n",
    "                #output_beams_pos_dir.append((y_start,x_pos,\"up\"))\n",
    "                if prev_moves.get(f\"{y_start},{x_pos},up\",None) is None:\n",
    "                    prev_moves[f\"{y_start},{x_pos},up\"] = prev_moves.get(f\"{y_start},{x_pos},up\",0)+1\n",
    "                    temp_output_beam_map,temp_prev_moves = get_beam_dirs((y_start,x_pos,\"up\"),beam_map,prev_moves)\n",
    "                    prev_moves.update(temp_prev_moves)\n",
    "                    for row_num,row in enumerate(temp_output_beam_map):\n",
    "                        for col_num,col in enumerate(row):\n",
    "                            if temp_output_beam_map[row_num][col_num] == \"#\":\n",
    "                                output_beam_map[row_num][col_num] = \"#\"\n",
    "                break\n",
    "            elif beam_map[y_start][x_pos]==\"|\":\n",
    "                output_beam_map[y_start][x_pos] = \"#\"\n",
    "                #output_beams_pos_dir.append((y_start,x_pos,\"up\"))\n",
    "                if prev_moves.get(f\"{y_start},{x_pos},up\",None) is None:\n",
    "                    prev_moves[f\"{y_start},{x_pos},up\"] = prev_moves.get(f\"{y_start},{x_pos},up\",0)+1\n",
    "                    temp_output_beam_map,temp_prev_moves = get_beam_dirs((y_start,x_pos,\"up\"),beam_map,prev_moves)\n",
    "                    prev_moves.update(temp_prev_moves)\n",
    "                    for row_num,row in enumerate(temp_output_beam_map):\n",
    "                        for col_num,col in enumerate(row):\n",
    "                            if temp_output_beam_map[row_num][col_num] == \"#\":\n",
    "                                output_beam_map[row_num][col_num] = \"#\"\n",
    "                    \n",
    "                #output_beams_pos_dir.append((y_start,x_pos,\"down\"))\n",
    "                if prev_moves.get(f\"{y_start},{x_pos},down\",None) is None:\n",
    "                    prev_moves[f\"{y_start},{x_pos},down\"] = prev_moves.get(f\"{y_start},{x_pos},down\",0) + 1\n",
    "                    temp_output_beam_map,temp_prev_moves = get_beam_dirs((y_start,x_pos,\"down\"),beam_map,prev_moves)\n",
    "                    prev_moves.update(temp_prev_moves)\n",
    "                    for row_num,row in enumerate(temp_output_beam_map):\n",
    "                        for col_num,col in enumerate(row):\n",
    "                            if temp_output_beam_map[row_num][col_num] == \"#\":\n",
    "                                output_beam_map[row_num][col_num] = \"#\"\n",
    "                    \n",
    "                break\n",
    "    else:\n",
    "        # trace beam right until right edge of map or mirror/splitter\n",
    "        for x_pos in range(x_start+1,len(beam_map[0]),1):\n",
    "            if beam_map[y_start][x_pos] in (\".\",\"-\"):\n",
    "                output_beam_map[y_start][x_pos] = \"#\"\n",
    "            elif beam_map[y_start][x_pos]==\"/\":\n",
    "                output_beam_map[y_start][x_pos] = \"#\"\n",
    "                #output_beams_pos_dir.append((y_start,x_pos,\"up\"))\n",
    "                if prev_moves.get(f\"{y_start},{x_pos},up\",None) is None:\n",
    "                    prev_moves[f\"{y_start},{x_pos},up\"] = prev_moves.get(f\"{y_start},{x_pos},up\",0)+ 1\n",
    "                    temp_output_beam_map,temp_prev_moves = get_beam_dirs((y_start,x_pos,\"up\"),beam_map,prev_moves)\n",
    "                    prev_moves.update(temp_prev_moves)\n",
    "                    for row_num,row in enumerate(temp_output_beam_map):\n",
    "                        for col_num,col in enumerate(row):\n",
    "                            if temp_output_beam_map[row_num][col_num] == \"#\":\n",
    "                                output_beam_map[row_num][col_num] = \"#\"\n",
    "                break\n",
    "                    \n",
    "            elif beam_map[y_start][x_pos]==\"\\\\\":\n",
    "                output_beam_map[y_start][x_pos] = \"#\"\n",
    "                #output_beams_pos_dir.append((y_start,x_pos,\"down\"))\n",
    "                if prev_moves.get(f\"{y_start},{x_pos},down\",None) is None:\n",
    "                    prev_moves[f\"{y_start},{x_pos},down\"] = prev_moves.get(f\"{y_start},{x_pos},down\",0)+ 1\n",
    "                    temp_output_beam_map,temp_prev_moves = get_beam_dirs((y_start,x_pos,\"down\"),beam_map,prev_moves)\n",
    "                    prev_moves.update(temp_prev_moves)\n",
    "                    for row_num,row in enumerate(temp_output_beam_map):\n",
    "                        for col_num,col in enumerate(row):\n",
    "                            if temp_output_beam_map[row_num][col_num] == \"#\":\n",
    "                                output_beam_map[row_num][col_num] = \"#\"\n",
    "                    \n",
    "                break\n",
    "            elif beam_map[y_start][x_pos]==\"|\":\n",
    "                #print(y_start,x_pos)\n",
    "                output_beam_map[y_start][x_pos] = \"#\"\n",
    "                #output_beams_pos_dir.append((y_start,x_pos,\"up\"))\n",
    "                if prev_moves.get(f\"{y_start},{x_pos},up\",None) is None:\n",
    "                    prev_moves[f\"{y_start},{x_pos},up\"] = prev_moves.get(f\"{y_start},{x_pos},up\",0) + 1\n",
    "                    temp_output_beam_map,temp_prev_moves = get_beam_dirs((y_start,x_pos,\"up\"),beam_map,prev_moves)\n",
    "                    prev_moves.update(temp_prev_moves)\n",
    "                    for row_num,row in enumerate(temp_output_beam_map):\n",
    "                        for col_num,col in enumerate(row):\n",
    "                            if temp_output_beam_map[row_num][col_num] == \"#\":\n",
    "                                output_beam_map[row_num][col_num] = \"#\"\n",
    "                    \n",
    "                #output_beams_pos_dir.append((y_start,x_pos,\"down\"))\n",
    "                if prev_moves.get(f\"{y_start},{x_pos},down\",None) is None:\n",
    "                    prev_moves[f\"{y_start},{x_pos},down\"] = prev_moves.get(f\"{y_start},{x_pos},down\",0) +1\n",
    "                    temp_output_beam_map,temp_prev_moves = get_beam_dirs((y_start,x_pos,\"down\"),beam_map,prev_moves)\n",
    "                    prev_moves.update(temp_prev_moves)\n",
    "                    for row_num,row in enumerate(temp_output_beam_map):\n",
    "                        for col_num,col in enumerate(row):\n",
    "                            if temp_output_beam_map[row_num][col_num] == \"#\":\n",
    "                                output_beam_map[row_num][col_num] = \"#\"\n",
    "                    \n",
    "                break\n",
    "    return output_beam_map,prev_moves"
   ]
  },
  {
   "cell_type": "code",
   "execution_count": 89,
   "metadata": {},
   "outputs": [
    {
     "data": {
      "text/plain": [
       "46"
      ]
     },
     "execution_count": 89,
     "metadata": {},
     "output_type": "execute_result"
    }
   ],
   "source": [
    "beam_map = []\n",
    "base_map = []\n",
    "for line in test_lines.split(\"\\n\"):\n",
    "    beam_map.append([x for x in line])\n",
    "    base_map.append([\".\" for _ in line])\n",
    "\n",
    "output_beam_map,prev_moves = get_beam_dirs((0,-1,\"right\"),beam_map,{})\n",
    "total =0\n",
    "for row_num,row in enumerate(output_beam_map):\n",
    "    for col_num,col in enumerate(row):\n",
    "        if output_beam_map[row_num][col_num] == \"#\":\n",
    "            total +=1\n",
    "total "
   ]
  },
  {
   "cell_type": "code",
   "execution_count": 81,
   "metadata": {},
   "outputs": [
    {
     "data": {
      "text/plain": [
       "{'0,0,up': 1}"
      ]
     },
     "execution_count": 81,
     "metadata": {},
     "output_type": "execute_result"
    }
   ],
   "source": [
    "prev_moves"
   ]
  },
  {
   "cell_type": "code",
   "execution_count": 82,
   "metadata": {},
   "outputs": [
    {
     "name": "stdout",
     "output_type": "stream",
     "text": [
      "/|...\\....\n",
      "|.-.\\.....\n",
      ".....|-...\n",
      "........|.\n",
      "..........\n",
      ".........\\\n",
      "..../.\\\\..\n",
      ".-.-/..|..\n",
      ".|....-|.\\\n",
      "..//.|....\n"
     ]
    }
   ],
   "source": [
    "for row in beam_map:\n",
    "    print(\"\".join(row))"
   ]
  },
  {
   "cell_type": "code",
   "execution_count": 83,
   "metadata": {},
   "outputs": [
    {
     "name": "stdout",
     "output_type": "stream",
     "text": [
      "#.........\n",
      "..........\n",
      "..........\n",
      "..........\n",
      "..........\n",
      "..........\n",
      "..........\n",
      "..........\n",
      "..........\n",
      "..........\n"
     ]
    }
   ],
   "source": [
    "for row in output_beam_map:\n",
    "    print(\"\".join(row))"
   ]
  },
  {
   "cell_type": "code",
   "execution_count": 84,
   "metadata": {},
   "outputs": [
    {
     "data": {
      "text/plain": [
       "6605"
      ]
     },
     "execution_count": 84,
     "metadata": {},
     "output_type": "execute_result"
    }
   ],
   "source": [
    "beam_map = []\n",
    "base_map = []\n",
    "for line in lines:\n",
    "    beam_map.append([x for x in line.replace(\"\\n\",\"\")])\n",
    "    base_map.append([\".\" for _ in line.replace(\"\\n\",\"\")])\n",
    "    \n",
    "output_beam_map,prev_moves = get_beam_dirs((0,-1,\"right\"),beam_map,{})\n",
    "total =0\n",
    "for row_num,row in enumerate(output_beam_map):\n",
    "    for col_num,col in enumerate(row):\n",
    "        if output_beam_map[row_num][col_num] == \"#\":\n",
    "            total +=1\n",
    "total "
   ]
  },
  {
   "cell_type": "markdown",
   "metadata": {},
   "source": [
    "part 2\n"
   ]
  },
  {
   "cell_type": "code",
   "execution_count": 116,
   "metadata": {},
   "outputs": [
    {
     "data": {
      "application/vnd.jupyter.widget-view+json": {
       "model_id": "1ce63d92362148b49ced29dac27f87be",
       "version_major": 2,
       "version_minor": 0
      },
      "text/plain": [
       "  0%|          | 0/10 [00:00<?, ?it/s]"
      ]
     },
     "metadata": {},
     "output_type": "display_data"
    },
    {
     "data": {
      "application/vnd.jupyter.widget-view+json": {
       "model_id": "c5bb3c96276c4a00a6013a013857e18c",
       "version_major": 2,
       "version_minor": 0
      },
      "text/plain": [
       "  0%|          | 0/10 [00:00<?, ?it/s]"
      ]
     },
     "metadata": {},
     "output_type": "display_data"
    },
    {
     "name": "stdout",
     "output_type": "stream",
     "text": [
      "51\n",
      "[46, 5, 10, 7, 49, 45, 18, 11, 10, 10, 13, 6, 22, 9, 45, 47, 46, 13, 30, 48, 10, 10, 45, 45, 23, 47, 51, 47, 7, 46, 5, 45, 47, 46, 9, 45, 10, 10, 6, 48]\n"
     ]
    }
   ],
   "source": [
    "def get_energized(y_pos,x_pos,dir):\n",
    "    output_beam_map,prev_moves = get_beam_dirs((y_pos,x_pos,dir),beam_map,{})\n",
    "    total =0\n",
    "    for row_num,row in enumerate(output_beam_map):\n",
    "        for col_num,col in enumerate(row):\n",
    "            if output_beam_map[row_num][col_num] == \"#\":\n",
    "                total +=1\n",
    "    return total\n",
    "\n",
    "from tqdm.notebook import trange\n",
    "energized_list = []\n",
    "beam_map = []\n",
    "base_map = []\n",
    "for line in test_lines.split(\"\\n\"):\n",
    "    beam_map.append([x for x in line])\n",
    "    base_map.append([\".\" for _ in line])\n",
    "\n",
    "for y_start in trange(len(beam_map)):\n",
    "    beam_map = []\n",
    "    base_map = []\n",
    "    for line in test_lines.split(\"\\n\"):\n",
    "        beam_map.append([x for x in line])\n",
    "        base_map.append([\".\" for _ in line])\n",
    "    # left edge \n",
    "    energized_list.append(get_energized(y_start,-1,\"right\"))\n",
    "    beam_map = []\n",
    "    base_map = []\n",
    "    for line in test_lines.split(\"\\n\"):\n",
    "        beam_map.append([x for x in line])\n",
    "        base_map.append([\".\" for _ in line])\n",
    "    # right edge \n",
    "    energized_list.append(get_energized(y_start,len(beam_map[0]),\"left\"))\n",
    "\n",
    "for x_start in trange(len(beam_map[0])):\n",
    "    beam_map = []\n",
    "    base_map = []\n",
    "    for line in test_lines.split(\"\\n\"):\n",
    "        beam_map.append([x for x in line])\n",
    "        base_map.append([\".\" for _ in line])\n",
    "    # top edge \n",
    "    energized_list.append(get_energized(-1,x_start,\"down\"))\n",
    "    beam_map = []\n",
    "    base_map = []\n",
    "    for line in test_lines.split(\"\\n\"):\n",
    "        beam_map.append([x for x in line])\n",
    "        base_map.append([\".\" for _ in line])\n",
    "    # bottom edge \n",
    "    energized_list.append(get_energized(len(beam_map),x_start,\"up\"))\n",
    "\n",
    "print(max(energized_list))\n",
    "print(energized_list)"
   ]
  },
  {
   "cell_type": "code",
   "execution_count": 114,
   "metadata": {},
   "outputs": [
    {
     "data": {
      "application/vnd.jupyter.widget-view+json": {
       "model_id": "cfb6fab930c94a09ba097d6ad23395a9",
       "version_major": 2,
       "version_minor": 0
      },
      "text/plain": [
       "  0%|          | 0/110 [00:00<?, ?it/s]"
      ]
     },
     "metadata": {},
     "output_type": "display_data"
    },
    {
     "data": {
      "application/vnd.jupyter.widget-view+json": {
       "model_id": "0f7b5bf14ad2463b94616bf9a7335607",
       "version_major": 2,
       "version_minor": 0
      },
      "text/plain": [
       "  0%|          | 0/110 [00:00<?, ?it/s]"
      ]
     },
     "metadata": {},
     "output_type": "display_data"
    },
    {
     "name": "stdout",
     "output_type": "stream",
     "text": [
      "6766\n",
      "[6605, 6469, 23, 6298, 6499, 25, 6533, 6565, 8, 37, 6675, 6356, 6298, 79, 40, 21, 55, 29, 28, 6487, 302, 25, 40, 6367, 6298, 6295, 6256, 6586, 6259, 47, 6256, 31, 6280, 18, 6252, 24, 287, 24, 6254, 324, 55, 165, 145, 41, 6550, 26, 57, 44, 40, 6275, 57, 348, 6247, 6292, 6247, 6506, 6283, 6274, 6487, 6614, 6263, 106, 6264, 6283, 6257, 29, 6248, 6381, 6529, 6271, 6259, 6537, 511, 6261, 6261, 203, 6315, 48, 61, 106, 6242, 6289, 6252, 6329, 6510, 70, 59, 6292, 6272, 66, 6269, 6477, 6242, 25, 57, 6335, 6242, 6429, 6331, 6251, 6254, 6242, 6242, 6261, 6290, 6242, 6252, 6383, 6260, 6250, 6269, 66, 6245, 78, 6254, 37, 6267, 6242, 6242, 6242, 6255, 6298, 6242, 25, 6284, 155, 6313, 266, 6242, 6291, 6263, 6250, 6242, 6488, 6362, 6475, 72, 6477, 6359, 6254, 6242, 6439, 420, 6265, 6252, 6658, 6266, 6250, 478, 6480, 6245, 6295, 6242, 120, 6256, 138, 6291, 50, 57, 6529, 6242, 144, 6297, 61, 6256, 3, 74, 6291, 6254, 3, 6255, 43, 6242, 6272, 6266, 50, 6305, 6643, 6275, 37, 50, 20, 29, 6242, 4, 6249, 18, 50, 39, 23, 4, 73, 6547, 46, 149, 24, 6349, 24, 33, 20, 39, 20, 24, 6344, 19, 28, 43, 6305, 6, 54, 6388, 6659, 50, 6299, 6252, 6382, 15, 6378, 33, 54, 3, 6, 23, 18, 3, 48, 8, 48, 6501, 33, 6267, 6261, 6252, 6261, 47, 6254, 6258, 6311, 6679, 6242, 6617, 29, 6242, 6304, 6528, 6242, 6606, 15, 6263, 6329, 59, 24, 37, 6296, 6538, 6349, 28, 52, 6262, 6766, 6299, 6251, 6242, 6242, 50, 6247, 6678, 30, 40, 72, 6619, 30, 6501, 6554, 6546, 6275, 6284, 6365, 116, 120, 45, 6298, 6270, 6262, 6605, 6548, 6612, 136, 6264, 6306, 75, 6284, 6260, 6313, 6242, 6510, 6643, 6500, 217, 30, 6242, 13, 6288, 6555, 6466, 6309, 6634, 6242, 6427, 13, 219, 6293, 6317, 6265, 47, 218, 6331, 230, 6286, 147, 158, 66, 6267, 6244, 19, 6264, 6265, 6307, 19, 67, 6269, 192, 6568, 67, 6485, 6692, 45, 226, 6380, 65, 48, 6245, 6528, 6242, 173, 6492, 6433, 6242, 237, 10, 6300, 6312, 6256, 6382, 45, 6753, 337, 6390, 6525, 6581, 6468, 9, 6258, 50, 45, 6242, 6495, 10, 6324, 9, 25, 6386, 6262, 6759, 47, 46, 6299, 6242, 25, 6627, 6346, 29, 6312, 6250, 70, 65, 155, 30, 6295, 50, 6254, 6250, 116, 6372, 6567, 6274, 6258, 6405, 17, 28, 41, 54, 6242, 43, 6485, 6358, 6494, 6390, 194, 30, 6368, 6385, 21, 8, 6270, 8, 6290, 6298, 6469, 20, 48, 6274, 17, 6242, 6467, 23, 6242, 6310, 391, 6251, 85, 6308, 26, 29, 35, 6297, 18, 6377, 62, 20]\n"
     ]
    }
   ],
   "source": [
    "def get_energized(y_pos,x_pos,dir):\n",
    "    output_beam_map,prev_moves = get_beam_dirs((y_pos,x_pos,dir),beam_map,{})\n",
    "    total =0\n",
    "    for row_num,row in enumerate(output_beam_map):\n",
    "        for col_num,col in enumerate(row):\n",
    "            if output_beam_map[row_num][col_num] == \"#\":\n",
    "                total +=1\n",
    "    return total\n",
    "\n",
    "energized_list = []\n",
    "from tqdm.notebook import trange\n",
    "\n",
    "beam_map = []\n",
    "base_map = []\n",
    "for line in lines:\n",
    "    beam_map.append([x for x in line.replace(\"\\n\",\"\")])\n",
    "    base_map.append([\".\" for _ in line.replace(\"\\n\",\"\")])\n",
    "\n",
    "for y_start in trange(len(beam_map)):\n",
    "    beam_map = []\n",
    "    base_map = []\n",
    "    for line in lines:\n",
    "        beam_map.append([x for x in line.replace(\"\\n\",\"\")])\n",
    "        base_map.append([\".\" for _ in line.replace(\"\\n\",\"\")])\n",
    "    # left edge \n",
    "    energized_list.append(get_energized(y_start,-1,\"right\"))\n",
    "    beam_map = []\n",
    "    base_map = []\n",
    "    for line in lines:\n",
    "        beam_map.append([x for x in line.replace(\"\\n\",\"\")])\n",
    "        base_map.append([\".\" for _ in line.replace(\"\\n\",\"\")])\n",
    "    # right edge \n",
    "    energized_list.append(get_energized(y_start,len(beam_map[0]),\"left\"))\n",
    "\n",
    "for x_start in trange(len(beam_map[0])):\n",
    "    beam_map = []\n",
    "    base_map = []\n",
    "    for line in lines:\n",
    "        beam_map.append([x for x in line.replace(\"\\n\",\"\")])\n",
    "        base_map.append([\".\" for _ in line.replace(\"\\n\",\"\")])\n",
    "    # top edge \n",
    "    energized_list.append(get_energized(-1,x_start,\"down\"))\n",
    "    beam_map = []\n",
    "    base_map = []\n",
    "    for line in lines:\n",
    "        beam_map.append([x for x in line.replace(\"\\n\",\"\")])\n",
    "        base_map.append([\".\" for _ in line.replace(\"\\n\",\"\")])\n",
    "    # bottom edge \n",
    "    energized_list.append(get_energized(len(beam_map),x_start,\"up\"))\n",
    "\n",
    "print(max(energized_list))\n",
    "print(energized_list)"
   ]
  },
  {
   "cell_type": "code",
   "execution_count": null,
   "metadata": {},
   "outputs": [],
   "source": []
  }
 ],
 "metadata": {
  "kernelspec": {
   "display_name": "Python 3",
   "language": "python",
   "name": "python3"
  },
  "language_info": {
   "codemirror_mode": {
    "name": "ipython",
    "version": 3
   },
   "file_extension": ".py",
   "mimetype": "text/x-python",
   "name": "python",
   "nbconvert_exporter": "python",
   "pygments_lexer": "ipython3",
   "version": "3.9.5"
  }
 },
 "nbformat": 4,
 "nbformat_minor": 2
}
