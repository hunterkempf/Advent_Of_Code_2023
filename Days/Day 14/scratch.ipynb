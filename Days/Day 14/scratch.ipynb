{
 "cells": [
  {
   "cell_type": "code",
   "execution_count": 62,
   "metadata": {},
   "outputs": [],
   "source": [
    "test_lines = [\n",
    "\"O....#....\",\n",
    "\"O.OO#....#\",\n",
    "\".....##...\",\n",
    "\"OO.#O....O\",\n",
    "\".O.....O#.\",\n",
    "\"O.#..O.#.#\",\n",
    "\"..O..#O..O\",\n",
    "\".......O..\",\n",
    "\"#....###..\",\n",
    "\"#OO..#....\"\n",
    "]\n",
    "\n",
    "\n",
    "def make_rock_array(lines):\n",
    "    rock_array = []\n",
    "    for line in lines:\n",
    "        rock_array.append([x for x in line.replace(\"\\n\",\"\")])\n",
    "    return rock_array\n",
    "\n",
    "def tilt_north(rock_array):\n",
    "    col_num = len(rock_array[0])\n",
    "    row_num = len(rock_array)\n",
    "    tilted_array = rock_array\n",
    "    for row_i in range(1,row_num):\n",
    "        for col_j in range(col_num):\n",
    "            if rock_array[row_i][col_j] == \"O\":\n",
    "                for row_above in range(row_i-1,-1,-1):\n",
    "                    rolling = 0\n",
    "                    if tilted_array[row_above][col_j] in (\"O\",\"#\"):\n",
    "                        #print((row_above,col_j),(row_above+1,col_j))\n",
    "                        #print(\"keeping rock here\")\n",
    "                        tilted_array[row_above+1][col_j] = \"O\"\n",
    "                        rolling = 0\n",
    "                        break\n",
    "                    else:\n",
    "                        #print(\"rolling rock forward one\")\n",
    "                        tilted_array[row_above+1][col_j] = \".\"\n",
    "                        rolling = 1\n",
    "                    if rolling:\n",
    "                        tilted_array[row_above][col_j] = \"O\"\n",
    "            else:\n",
    "                #print(\"NOT O\",row_i,col_j)\n",
    "                tilted_array[row_i][col_j] = rock_array[row_i][col_j]\n",
    "    return tilted_array\n",
    "\n",
    "def tilt_south(rock_array):\n",
    "    col_num = len(rock_array[0])\n",
    "    row_num = len(rock_array)\n",
    "    tilted_array = rock_array\n",
    "    for row_i in range(row_num-2,-1,-1):\n",
    "        for col_j in range(col_num):\n",
    "            if rock_array[row_i][col_j] == \"O\":\n",
    "                for row_below in range(row_i+1,row_num,1):\n",
    "                    rolling = 0\n",
    "                    if tilted_array[row_below][col_j] in (\"O\",\"#\"):\n",
    "                        #print((row_below,col_j),(row_below+1,col_j))\n",
    "                        #print(\"keeping rock here\")\n",
    "                        tilted_array[row_below-1][col_j] = \"O\"\n",
    "                        rolling = 0\n",
    "                        break\n",
    "                    else:\n",
    "                        #print(\"rolling rock forward one\")\n",
    "                        tilted_array[row_below-1][col_j] = \".\"\n",
    "                        rolling = 1\n",
    "                    if rolling:\n",
    "                        tilted_array[row_below][col_j] = \"O\"\n",
    "            else:\n",
    "                #print(\"NOT O\",row_i,col_j)\n",
    "                tilted_array[row_i][col_j] = rock_array[row_i][col_j]\n",
    "    return tilted_array\n",
    "def tilt_east(rock_array):\n",
    "    col_num = len(rock_array[0])\n",
    "    row_num = len(rock_array)\n",
    "    tilted_array = rock_array\n",
    "    # roll right\n",
    "    for col_j in range(col_num-2,-1,-1):\n",
    "        for row_i in range(row_num):\n",
    "            if rock_array[row_i][col_j] == \"O\":\n",
    "                for col_right in range(col_j+1,col_num,1):\n",
    "                    rolling = 0\n",
    "                    if tilted_array[row_i][col_right] in (\"O\",\"#\"):\n",
    "                        #print((row_i,col_right),(row_i,col_right+1))\n",
    "                        #print(\"keeping rock here\")\n",
    "                        tilted_array[row_i][col_right-1] = \"O\"\n",
    "                        rolling = 0\n",
    "                        break\n",
    "                    else:\n",
    "                        #print(\"rolling rock forward one\")\n",
    "                        tilted_array[row_i][col_right-1] = \".\"\n",
    "                        rolling = 1\n",
    "                    if rolling:\n",
    "                        tilted_array[row_i][col_right] = \"O\"\n",
    "            else:\n",
    "                #print(\"NOT O\",row_i,col_j)\n",
    "                tilted_array[row_i][col_j] = rock_array[row_i][col_j]\n",
    "    return tilted_array\n",
    "def tilt_west(rock_array):\n",
    "    col_num = len(rock_array[0])\n",
    "    row_num = len(rock_array)\n",
    "    tilted_array = rock_array\n",
    "    # roll left\n",
    "    for col_j in range(1,col_num):\n",
    "        for row_i in range(row_num):\n",
    "            if rock_array[row_i][col_j] == \"O\":\n",
    "                for col_left in range(col_j-1,-1,-1):\n",
    "                    rolling = 0\n",
    "                    if tilted_array[row_i][col_left] in (\"O\",\"#\"):\n",
    "                        #print((row_i,col_left),(row_i,col_left-1))\n",
    "                        #print(\"keeping rock here\")\n",
    "                        tilted_array[row_i][col_left+1] = \"O\"\n",
    "                        rolling = 0\n",
    "                        break\n",
    "                    else:\n",
    "                        #print(\"rolling rock forward one\")\n",
    "                        tilted_array[row_i][col_left+1] = \".\"\n",
    "                        rolling = 1\n",
    "                    if rolling:\n",
    "                        tilted_array[row_i][col_left] = \"O\"\n",
    "            else:\n",
    "                #print(\"NOT O\",row_i,col_j)\n",
    "                tilted_array[row_i][col_j] = rock_array[row_i][col_j]\n",
    "    return tilted_array\n",
    "\n",
    "\n",
    "def calculate_load(tilted_array):\n",
    "    total = 0\n",
    "    row_len = len(tilted_array)\n",
    "    for row_num,row in enumerate(tilted_array):\n",
    "        row_count = 0\n",
    "        for char in row:\n",
    "            if char == \"O\":\n",
    "                row_count +=1\n",
    "        total += row_count * (row_len-row_num)\n",
    "    return total"
   ]
  },
  {
   "cell_type": "code",
   "execution_count": 60,
   "metadata": {},
   "outputs": [
    {
     "data": {
      "application/vnd.jupyter.widget-view+json": {
       "model_id": "59a667898e344a0bbfe5f9a30517572a",
       "version_major": 2,
       "version_minor": 0
      },
      "text/plain": [
       "  0%|          | 0/1000000000 [00:00<?, ?it/s]"
      ]
     },
     "metadata": {},
     "output_type": "display_data"
    },
    {
     "ename": "KeyboardInterrupt",
     "evalue": "",
     "output_type": "error",
     "traceback": [
      "\u001b[1;31m---------------------------------------------------------------------------\u001b[0m",
      "\u001b[1;31mKeyboardInterrupt\u001b[0m                         Traceback (most recent call last)",
      "\u001b[1;32m~\\AppData\\Local\\Temp/ipykernel_54392/3239228990.py\u001b[0m in \u001b[0;36m<module>\u001b[1;34m\u001b[0m\n\u001b[0;32m      7\u001b[0m     \u001b[0mrock_array\u001b[0m \u001b[1;33m=\u001b[0m \u001b[0mtilt_west\u001b[0m\u001b[1;33m(\u001b[0m\u001b[0mrock_array\u001b[0m\u001b[1;33m)\u001b[0m\u001b[1;33m\u001b[0m\u001b[1;33m\u001b[0m\u001b[0m\n\u001b[0;32m      8\u001b[0m     \u001b[0mrock_array\u001b[0m \u001b[1;33m=\u001b[0m \u001b[0mtilt_south\u001b[0m\u001b[1;33m(\u001b[0m\u001b[0mrock_array\u001b[0m\u001b[1;33m)\u001b[0m\u001b[1;33m\u001b[0m\u001b[1;33m\u001b[0m\u001b[0m\n\u001b[1;32m----> 9\u001b[1;33m     \u001b[0mrock_array\u001b[0m \u001b[1;33m=\u001b[0m \u001b[0mtilt_east\u001b[0m\u001b[1;33m(\u001b[0m\u001b[0mrock_array\u001b[0m\u001b[1;33m)\u001b[0m\u001b[1;33m\u001b[0m\u001b[1;33m\u001b[0m\u001b[0m\n\u001b[0m\u001b[0;32m     10\u001b[0m     \u001b[0mcurr_str_array\u001b[0m \u001b[1;33m=\u001b[0m \u001b[1;33m[\u001b[0m\u001b[1;34m\"\"\u001b[0m\u001b[1;33m.\u001b[0m\u001b[0mjoin\u001b[0m\u001b[1;33m(\u001b[0m\u001b[0mrock_array_line\u001b[0m\u001b[1;33m)\u001b[0m \u001b[1;32mfor\u001b[0m \u001b[0mrock_array_line\u001b[0m \u001b[1;32min\u001b[0m \u001b[0mrock_array\u001b[0m\u001b[1;33m]\u001b[0m\u001b[1;33m\u001b[0m\u001b[1;33m\u001b[0m\u001b[0m\n\u001b[0;32m     11\u001b[0m     \u001b[1;32mif\u001b[0m \u001b[0mprev_itteration\u001b[0m \u001b[1;33m==\u001b[0m \u001b[0mcurr_str_array\u001b[0m\u001b[1;33m:\u001b[0m\u001b[1;33m\u001b[0m\u001b[1;33m\u001b[0m\u001b[0m\n",
      "\u001b[1;32m~\\AppData\\Local\\Temp/ipykernel_54392/569745604.py\u001b[0m in \u001b[0;36mtilt_east\u001b[1;34m(rock_array)\u001b[0m\n\u001b[0;32m     94\u001b[0m             \u001b[1;32melse\u001b[0m\u001b[1;33m:\u001b[0m\u001b[1;33m\u001b[0m\u001b[1;33m\u001b[0m\u001b[0m\n\u001b[0;32m     95\u001b[0m                 \u001b[1;31m#print(\"NOT O\",row_i,col_j)\u001b[0m\u001b[1;33m\u001b[0m\u001b[1;33m\u001b[0m\u001b[1;33m\u001b[0m\u001b[0m\n\u001b[1;32m---> 96\u001b[1;33m                 \u001b[0mtilted_array\u001b[0m\u001b[1;33m[\u001b[0m\u001b[0mrow_i\u001b[0m\u001b[1;33m]\u001b[0m\u001b[1;33m[\u001b[0m\u001b[0mcol_j\u001b[0m\u001b[1;33m]\u001b[0m \u001b[1;33m=\u001b[0m \u001b[0mrock_array\u001b[0m\u001b[1;33m[\u001b[0m\u001b[0mrow_i\u001b[0m\u001b[1;33m]\u001b[0m\u001b[1;33m[\u001b[0m\u001b[0mcol_j\u001b[0m\u001b[1;33m]\u001b[0m\u001b[1;33m\u001b[0m\u001b[1;33m\u001b[0m\u001b[0m\n\u001b[0m\u001b[0;32m     97\u001b[0m     \u001b[1;32mreturn\u001b[0m \u001b[0mtilted_array\u001b[0m\u001b[1;33m\u001b[0m\u001b[1;33m\u001b[0m\u001b[0m\n\u001b[0;32m     98\u001b[0m \u001b[1;32mdef\u001b[0m \u001b[0mtilt_west\u001b[0m\u001b[1;33m(\u001b[0m\u001b[0mrock_array\u001b[0m\u001b[1;33m)\u001b[0m\u001b[1;33m:\u001b[0m\u001b[1;33m\u001b[0m\u001b[1;33m\u001b[0m\u001b[0m\n",
      "\u001b[1;31mKeyboardInterrupt\u001b[0m: "
     ]
    }
   ],
   "source": [
    "from tqdm.notebook import trange\n",
    "import numpy as np\n",
    "rock_array = make_rock_array(test_lines)\n",
    "prev_itteration = [\"\".join(rock_array_line) for rock_array_line in rock_array]\n",
    "for i in trange(1000000000):\n",
    "    rock_array = tilt_north(rock_array)\n",
    "    rock_array = tilt_west(rock_array)\n",
    "    rock_array = tilt_south(rock_array)\n",
    "    rock_array = tilt_east(rock_array)\n",
    "    curr_str_array = [\"\".join(rock_array_line) for rock_array_line in rock_array]\n",
    "    if prev_itteration == curr_str_array:\n",
    "        break\n",
    "    prev_itteration=curr_str_array\n",
    "prev_itteration"
   ]
  },
  {
   "cell_type": "code",
   "execution_count": 18,
   "metadata": {},
   "outputs": [
    {
     "data": {
      "text/plain": [
       "[['O', '.', '.', '.', '.', '#', '.', '.', '.', '.'],\n",
       " ['O', '.', 'O', 'O', '#', '.', '.', '.', '.', '#'],\n",
       " ['.', '.', '.', '.', '.', '#', '#', '.', '.', '.'],\n",
       " ['O', 'O', '.', '#', 'O', '.', '.', '.', '.', 'O'],\n",
       " ['.', 'O', '.', '.', '.', '.', '.', 'O', '#', '.'],\n",
       " ['O', '.', '#', '.', '.', 'O', '.', '#', '.', '#'],\n",
       " ['.', '.', 'O', '.', '.', '#', 'O', '.', '.', 'O'],\n",
       " ['.', '.', '.', '.', '.', '.', '.', 'O', '.', '.'],\n",
       " ['#', '.', '.', '.', '.', '#', '#', '#', '.', '.'],\n",
       " ['#', 'O', 'O', '.', '.', '#', '.', '.', '.', '.']]"
      ]
     },
     "execution_count": 18,
     "metadata": {},
     "output_type": "execute_result"
    }
   ],
   "source": [
    "rock_array = make_rock_array(test_lines)\n",
    "prev_itteration = rock_array\n",
    "prev_itteration"
   ]
  },
  {
   "cell_type": "code",
   "execution_count": 19,
   "metadata": {},
   "outputs": [
    {
     "data": {
      "text/plain": [
       "[['.', '.', '.', '.', '.', '#', '.', '.', '.', '.'],\n",
       " ['.', '.', '.', '.', '#', '.', '.', '.', 'O', '#'],\n",
       " ['.', '.', '.', 'O', 'O', '#', '#', '.', '.', '.'],\n",
       " ['.', 'O', 'O', '#', '.', '.', '.', '.', '.', '.'],\n",
       " ['.', '.', '.', '.', '.', 'O', 'O', 'O', '#', '.'],\n",
       " ['.', 'O', '#', '.', '.', '.', 'O', '#', '.', '#'],\n",
       " ['.', '.', '.', '.', 'O', '#', '.', '.', '.', '.'],\n",
       " ['.', '.', '.', '.', '.', '.', 'O', 'O', 'O', 'O'],\n",
       " ['#', '.', '.', '.', 'O', '#', '#', '#', '.', '.'],\n",
       " ['#', '.', '.', 'O', 'O', '#', '.', '.', '.', '.']]"
      ]
     },
     "execution_count": 19,
     "metadata": {},
     "output_type": "execute_result"
    }
   ],
   "source": [
    "rock_array = tilt_north(rock_array)\n",
    "rock_array = tilt_west(rock_array)\n",
    "rock_array = tilt_south(rock_array)\n",
    "rock_array = tilt_east(rock_array)\n",
    "rock_array"
   ]
  },
  {
   "cell_type": "code",
   "execution_count": 68,
   "metadata": {},
   "outputs": [
    {
     "data": {
      "text/plain": [
       "'.....#........#...O#.....##.....O#............OO#..O#...O#.#....O#..........OOOO#...O###.O#.OOO#..OO'"
      ]
     },
     "execution_count": 68,
     "metadata": {},
     "output_type": "execute_result"
    }
   ],
   "source": []
  },
  {
   "cell_type": "code",
   "execution_count": 98,
   "metadata": {},
   "outputs": [
    {
     "data": {
      "application/vnd.jupyter.widget-view+json": {
       "model_id": "9a3fa969800d4a05b7823a27622a1999",
       "version_major": 2,
       "version_minor": 0
      },
      "text/plain": [
       "  0%|          | 0/4 [00:00<?, ?it/s]"
      ]
     },
     "metadata": {},
     "output_type": "display_data"
    },
    {
     "name": "stdout",
     "output_type": "stream",
     "text": [
      "87\n",
      "69\n",
      "69\n",
      "69\n"
     ]
    },
    {
     "data": {
      "text/plain": [
       "69"
      ]
     },
     "execution_count": 98,
     "metadata": {},
     "output_type": "execute_result"
    }
   ],
   "source": [
    "from tqdm.notebook import trange\n",
    "rock_array = make_rock_array(test_lines)\n",
    "array_dict = {}\n",
    "for i in trange(4):\n",
    "    key = \"\".join([\"\".join(x) for x in rock_array])\n",
    "    value = array_dict.get(key,None)\n",
    "    if  value is not None:\n",
    "        rock_array = value\n",
    "    else:\n",
    "        rock_array = tilt_north(rock_array)\n",
    "        rock_array = tilt_west(rock_array)\n",
    "        rock_array = tilt_south(rock_array)\n",
    "        rock_array = tilt_east(rock_array)\n",
    "        array_dict[key] = rock_array\n",
    "        print(calculate_load(array_dict[key]))\n",
    "\n",
    "calculate_load(array_dict[key])"
   ]
  },
  {
   "cell_type": "code",
   "execution_count": 100,
   "metadata": {},
   "outputs": [
    {
     "data": {
      "application/vnd.jupyter.widget-view+json": {
       "model_id": "337bc99173ce49eeaeff6045abf69a44",
       "version_major": 2,
       "version_minor": 0
      },
      "text/plain": [
       "  0%|          | 0/20 [00:00<?, ?it/s]"
      ]
     },
     "metadata": {},
     "output_type": "display_data"
    },
    {
     "name": "stdout",
     "output_type": "stream",
     "text": [
      "87\n",
      "69\n",
      "69\n",
      "69\n",
      "65\n",
      "64\n",
      "65\n",
      "63\n",
      "68\n",
      "69\n",
      "69\n",
      "65\n",
      "64\n",
      "65\n",
      "63\n",
      "68\n",
      "69\n",
      "69\n",
      "65\n",
      "64\n"
     ]
    },
    {
     "data": {
      "text/plain": [
       "64"
      ]
     },
     "execution_count": 100,
     "metadata": {},
     "output_type": "execute_result"
    }
   ],
   "source": [
    "rock_array = make_rock_array(test_lines)\n",
    "prev_load = 0\n",
    "array_dict = {}\n",
    "for i in trange(20):\n",
    "    rock_array = tilt_north(rock_array)\n",
    "    rock_array = tilt_west(rock_array)\n",
    "    rock_array = tilt_south(rock_array)\n",
    "    rock_array = tilt_east(rock_array)\n",
    "    print(calculate_load(rock_array))\n",
    "\n",
    "calculate_load(rock_array)"
   ]
  },
  {
   "cell_type": "code",
   "execution_count": 102,
   "metadata": {},
   "outputs": [
    {
     "data": {
      "text/plain": [
       "3"
      ]
     },
     "execution_count": 102,
     "metadata": {},
     "output_type": "execute_result"
    }
   ],
   "source": [
    "(1000000000-3)%7"
   ]
  },
  {
   "cell_type": "code",
   "execution_count": 75,
   "metadata": {},
   "outputs": [
    {
     "data": {
      "text/plain": [
       "10"
      ]
     },
     "execution_count": 75,
     "metadata": {},
     "output_type": "execute_result"
    }
   ],
   "source": [
    "len(array_dict.keys())"
   ]
  },
  {
   "cell_type": "code",
   "execution_count": 77,
   "metadata": {},
   "outputs": [
    {
     "data": {
      "text/plain": [
       "[['.', '.', '.', '.', '.', '#', '.', '.', '.', '.'],\n",
       " ['.', '.', '.', '.', '#', '.', '.', '.', 'O', '#'],\n",
       " ['.', '.', '.', '.', '.', '#', '#', '.', '.', '.'],\n",
       " ['.', '.', 'O', '#', '.', '.', '.', '.', '.', '.'],\n",
       " ['.', '.', '.', '.', '.', 'O', 'O', 'O', '#', '.'],\n",
       " ['.', 'O', '#', '.', '.', '.', 'O', '#', '.', '#'],\n",
       " ['.', '.', '.', '.', 'O', '#', '.', '.', '.', 'O'],\n",
       " ['.', '.', '.', '.', '.', '.', '.', 'O', 'O', 'O'],\n",
       " ['#', '.', '.', '.', 'O', '#', '#', '#', '.', 'O'],\n",
       " ['#', '.', 'O', 'O', 'O', '#', '.', '.', '.', 'O']]"
      ]
     },
     "execution_count": 77,
     "metadata": {},
     "output_type": "execute_result"
    }
   ],
   "source": [
    "rock_array = make_rock_array(test_lines)\n",
    "array_dict[\"\".join([\"\".join(x) for x in rock_array])]"
   ]
  },
  {
   "cell_type": "code",
   "execution_count": 76,
   "metadata": {},
   "outputs": [
    {
     "name": "stdout",
     "output_type": "stream",
     "text": [
      "[['.', '.', '.', '.', '.', '#', '.', '.', '.', '.'], ['.', '.', '.', '.', '#', '.', '.', '.', 'O', '#'], ['.', '.', '.', '.', '.', '#', '#', '.', '.', '.'], ['.', '.', 'O', '#', '.', '.', '.', '.', '.', '.'], ['.', '.', '.', '.', '.', 'O', 'O', 'O', '#', '.'], ['.', 'O', '#', '.', '.', '.', 'O', '#', '.', '#'], ['.', '.', '.', '.', 'O', '#', '.', '.', '.', 'O'], ['.', '.', '.', '.', '.', '.', '.', 'O', 'O', 'O'], ['#', '.', '.', '.', 'O', '#', '#', '#', '.', 'O'], ['#', '.', 'O', 'O', 'O', '#', '.', '.', '.', 'O']]\n",
      "[['.', '.', '.', '.', '.', '#', '.', '.', '.', '.'], ['.', '.', '.', '.', '#', '.', '.', '.', 'O', '#'], ['.', '.', '.', '.', '.', '#', '#', '.', '.', '.'], ['.', '.', 'O', '#', '.', '.', '.', '.', '.', '.'], ['.', '.', '.', '.', '.', 'O', 'O', 'O', '#', '.'], ['.', 'O', '#', '.', '.', '.', 'O', '#', '.', '#'], ['.', '.', '.', '.', 'O', '#', '.', '.', '.', 'O'], ['.', '.', '.', '.', '.', '.', '.', 'O', 'O', 'O'], ['#', '.', '.', '.', 'O', '#', '#', '#', '.', 'O'], ['#', '.', 'O', 'O', 'O', '#', '.', '.', '.', 'O']]\n",
      "[['.', '.', '.', '.', '.', '#', '.', '.', '.', '.'], ['.', '.', '.', '.', '#', '.', '.', '.', 'O', '#'], ['.', '.', '.', '.', '.', '#', '#', '.', '.', '.'], ['.', '.', 'O', '#', '.', '.', '.', '.', '.', '.'], ['.', '.', '.', '.', '.', 'O', 'O', 'O', '#', '.'], ['.', 'O', '#', '.', '.', '.', 'O', '#', '.', '#'], ['.', '.', '.', '.', 'O', '#', '.', '.', '.', 'O'], ['.', '.', '.', '.', '.', '.', '.', 'O', 'O', 'O'], ['#', '.', '.', '.', 'O', '#', '#', '#', '.', 'O'], ['#', '.', 'O', 'O', 'O', '#', '.', '.', '.', 'O']]\n",
      "[['.', '.', '.', '.', '.', '#', '.', '.', '.', '.'], ['.', '.', '.', '.', '#', '.', '.', '.', 'O', '#'], ['.', '.', '.', '.', '.', '#', '#', '.', '.', '.'], ['.', '.', 'O', '#', '.', '.', '.', '.', '.', '.'], ['.', '.', '.', '.', '.', 'O', 'O', 'O', '#', '.'], ['.', 'O', '#', '.', '.', '.', 'O', '#', '.', '#'], ['.', '.', '.', '.', 'O', '#', '.', '.', '.', 'O'], ['.', '.', '.', '.', '.', '.', '.', 'O', 'O', 'O'], ['#', '.', '.', '.', 'O', '#', '#', '#', '.', 'O'], ['#', '.', 'O', 'O', 'O', '#', '.', '.', '.', 'O']]\n",
      "[['.', '.', '.', '.', '.', '#', '.', '.', '.', '.'], ['.', '.', '.', '.', '#', '.', '.', '.', 'O', '#'], ['.', '.', '.', '.', '.', '#', '#', '.', '.', '.'], ['.', '.', 'O', '#', '.', '.', '.', '.', '.', '.'], ['.', '.', '.', '.', '.', 'O', 'O', 'O', '#', '.'], ['.', 'O', '#', '.', '.', '.', 'O', '#', '.', '#'], ['.', '.', '.', '.', 'O', '#', '.', '.', '.', 'O'], ['.', '.', '.', '.', '.', '.', '.', 'O', 'O', 'O'], ['#', '.', '.', '.', 'O', '#', '#', '#', '.', 'O'], ['#', '.', 'O', 'O', 'O', '#', '.', '.', '.', 'O']]\n",
      "[['.', '.', '.', '.', '.', '#', '.', '.', '.', '.'], ['.', '.', '.', '.', '#', '.', '.', '.', 'O', '#'], ['.', '.', '.', '.', '.', '#', '#', '.', '.', '.'], ['.', '.', 'O', '#', '.', '.', '.', '.', '.', '.'], ['.', '.', '.', '.', '.', 'O', 'O', 'O', '#', '.'], ['.', 'O', '#', '.', '.', '.', 'O', '#', '.', '#'], ['.', '.', '.', '.', 'O', '#', '.', '.', '.', 'O'], ['.', '.', '.', '.', '.', '.', '.', 'O', 'O', 'O'], ['#', '.', '.', '.', 'O', '#', '#', '#', '.', 'O'], ['#', '.', 'O', 'O', 'O', '#', '.', '.', '.', 'O']]\n",
      "[['.', '.', '.', '.', '.', '#', '.', '.', '.', '.'], ['.', '.', '.', '.', '#', '.', '.', '.', 'O', '#'], ['.', '.', '.', '.', '.', '#', '#', '.', '.', '.'], ['.', '.', 'O', '#', '.', '.', '.', '.', '.', '.'], ['.', '.', '.', '.', '.', 'O', 'O', 'O', '#', '.'], ['.', 'O', '#', '.', '.', '.', 'O', '#', '.', '#'], ['.', '.', '.', '.', 'O', '#', '.', '.', '.', 'O'], ['.', '.', '.', '.', '.', '.', '.', 'O', 'O', 'O'], ['#', '.', '.', '.', 'O', '#', '#', '#', '.', 'O'], ['#', '.', 'O', 'O', 'O', '#', '.', '.', '.', 'O']]\n",
      "[['.', '.', '.', '.', '.', '#', '.', '.', '.', '.'], ['.', '.', '.', '.', '#', '.', '.', '.', 'O', '#'], ['.', '.', '.', '.', '.', '#', '#', '.', '.', '.'], ['.', '.', 'O', '#', '.', '.', '.', '.', '.', '.'], ['.', '.', '.', '.', '.', 'O', 'O', 'O', '#', '.'], ['.', 'O', '#', '.', '.', '.', 'O', '#', '.', '#'], ['.', '.', '.', '.', 'O', '#', '.', '.', '.', 'O'], ['.', '.', '.', '.', '.', '.', '.', 'O', 'O', 'O'], ['#', '.', '.', '.', 'O', '#', '#', '#', '.', 'O'], ['#', '.', 'O', 'O', 'O', '#', '.', '.', '.', 'O']]\n",
      "[['.', '.', '.', '.', '.', '#', '.', '.', '.', '.'], ['.', '.', '.', '.', '#', '.', '.', '.', 'O', '#'], ['.', '.', '.', '.', '.', '#', '#', '.', '.', '.'], ['.', '.', 'O', '#', '.', '.', '.', '.', '.', '.'], ['.', '.', '.', '.', '.', 'O', 'O', 'O', '#', '.'], ['.', 'O', '#', '.', '.', '.', 'O', '#', '.', '#'], ['.', '.', '.', '.', 'O', '#', '.', '.', '.', 'O'], ['.', '.', '.', '.', '.', '.', '.', 'O', 'O', 'O'], ['#', '.', '.', '.', 'O', '#', '#', '#', '.', 'O'], ['#', '.', 'O', 'O', 'O', '#', '.', '.', '.', 'O']]\n",
      "[['.', '.', '.', '.', '.', '#', '.', '.', '.', '.'], ['.', '.', '.', '.', '#', '.', '.', '.', 'O', '#'], ['.', '.', '.', '.', '.', '#', '#', '.', '.', '.'], ['.', '.', 'O', '#', '.', '.', '.', '.', '.', '.'], ['.', '.', '.', '.', '.', 'O', 'O', 'O', '#', '.'], ['.', 'O', '#', '.', '.', '.', 'O', '#', '.', '#'], ['.', '.', '.', '.', 'O', '#', '.', '.', '.', 'O'], ['.', '.', '.', '.', '.', '.', '.', 'O', 'O', 'O'], ['#', '.', '.', '.', 'O', '#', '#', '#', '.', 'O'], ['#', '.', 'O', 'O', 'O', '#', '.', '.', '.', 'O']]\n"
     ]
    }
   ],
   "source": [
    "for key in array_dict.keys():\n",
    "    print(array_dict[key])"
   ]
  },
  {
   "cell_type": "code",
   "execution_count": 59,
   "metadata": {},
   "outputs": [
    {
     "name": "stdout",
     "output_type": "stream",
     "text": [
      "0 0\n",
      "1 9\n",
      "2 0\n",
      "3 0\n",
      "4 18\n",
      "5 10\n",
      "6 8\n",
      "7 12\n",
      "8 4\n",
      "9 4\n"
     ]
    },
    {
     "data": {
      "text/plain": [
       "65"
      ]
     },
     "execution_count": 59,
     "metadata": {},
     "output_type": "execute_result"
    }
   ],
   "source": [
    "calculate_load(rock_array)"
   ]
  },
  {
   "cell_type": "code",
   "execution_count": 57,
   "metadata": {},
   "outputs": [
    {
     "data": {
      "text/plain": [
       "[['.', '.', '.', '.', '.', '#', '.', '.', '.', '.'],\n",
       " ['.', '.', '.', '.', '#', '.', '.', '.', 'O', '#'],\n",
       " ['.', '.', '.', '.', '.', '#', '#', '.', '.', '.'],\n",
       " ['.', '.', '.', '#', '.', '.', '.', '.', '.', '.'],\n",
       " ['.', '.', '.', '.', '.', 'O', 'O', 'O', '#', '.'],\n",
       " ['.', 'O', '#', '.', '.', '.', 'O', '#', '.', '#'],\n",
       " ['.', '.', '.', '.', 'O', '#', '.', '.', '.', 'O'],\n",
       " ['.', '.', '.', '.', '.', '.', 'O', 'O', 'O', 'O'],\n",
       " ['#', '.', '.', '.', 'O', '#', '#', '#', '.', 'O'],\n",
       " ['#', '.', '.', 'O', 'O', '#', '.', '.', 'O', 'O']]"
      ]
     },
     "execution_count": 57,
     "metadata": {},
     "output_type": "execute_result"
    }
   ],
   "source": [
    "rock_array"
   ]
  },
  {
   "cell_type": "code",
   "execution_count": 24,
   "metadata": {},
   "outputs": [
    {
     "data": {
      "text/plain": [
       "[['.', '.', '.', '.', '.', '#', '.', '.', '.', '.'],\n",
       " ['.', '.', '.', '.', '#', '.', '.', '.', 'O', '#'],\n",
       " ['.', '.', '.', '.', '.', '#', '#', '.', '.', '.'],\n",
       " ['.', '.', '.', '#', '.', '.', '.', '.', '.', '.'],\n",
       " ['.', '.', '.', '.', '.', 'O', 'O', 'O', '#', '.'],\n",
       " ['.', 'O', '#', '.', '.', '.', 'O', '#', '.', '#'],\n",
       " ['.', '.', '.', '.', 'O', '#', '.', '.', '.', 'O'],\n",
       " ['.', '.', '.', '.', '.', '.', 'O', 'O', 'O', 'O'],\n",
       " ['#', '.', '.', '.', '.', '#', '#', '#', '.', 'O'],\n",
       " ['#', '.', 'O', 'O', 'O', '#', '.', '.', 'O', 'O']]"
      ]
     },
     "execution_count": 24,
     "metadata": {},
     "output_type": "execute_result"
    }
   ],
   "source": [
    "rock_array = make_rock_array(test_lines)\n",
    "for i in range(69):\n",
    "    rock_array = tilt_north(rock_array)\n",
    "    rock_array = tilt_west(rock_array)\n",
    "    rock_array = tilt_south(rock_array)\n",
    "    rock_array = tilt_east(rock_array)\n",
    "rock_array"
   ]
  },
  {
   "cell_type": "code",
   "execution_count": 89,
   "metadata": {},
   "outputs": [
    {
     "data": {
      "text/plain": [
       "64"
      ]
     },
     "execution_count": 89,
     "metadata": {},
     "output_type": "execute_result"
    }
   ],
   "source": [
    "tilted_east = make_rock_array(test_lines)\n",
    "\n",
    "for i in range(20):\n",
    "    tilted_north = tilt_north(tilted_east)\n",
    "    tilted_west = tilt_west(tilted_north)\n",
    "    tilted_south = tilt_south(tilted_west)\n",
    "    tilted_east = tilt_east(tilted_south)\n",
    "calculate_load(tilted_east)"
   ]
  },
  {
   "cell_type": "code",
   "execution_count": null,
   "metadata": {},
   "outputs": [],
   "source": [
    "tilted_north = tilt_north(tilted_east)\n",
    "tilted_west = tilt_west(tilted_north)\n",
    "tilted_south = tilt_south(tilted_west)\n",
    "tilted_east = tilt_east(tilted_south)"
   ]
  }
 ],
 "metadata": {
  "kernelspec": {
   "display_name": "Python 3",
   "language": "python",
   "name": "python3"
  },
  "language_info": {
   "codemirror_mode": {
    "name": "ipython",
    "version": 3
   },
   "file_extension": ".py",
   "mimetype": "text/x-python",
   "name": "python",
   "nbconvert_exporter": "python",
   "pygments_lexer": "ipython3",
   "version": "3.9.5"
  }
 },
 "nbformat": 4,
 "nbformat_minor": 2
}
