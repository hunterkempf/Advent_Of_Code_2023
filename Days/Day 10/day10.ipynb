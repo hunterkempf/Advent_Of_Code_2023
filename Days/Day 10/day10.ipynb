{
 "cells": [
  {
   "cell_type": "code",
   "execution_count": null,
   "metadata": {},
   "outputs": [],
   "source": []
  },
  {
   "cell_type": "code",
   "execution_count": 1,
   "metadata": {},
   "outputs": [],
   "source": [
    "test_case_1 = [\n",
    "\".....\\n\",\n",
    "\".S-7.\\n\",\n",
    "\".|.|.\\n\",\n",
    "\".L-J.\\n\",\n",
    "\".....\\n\"\n",
    "]"
   ]
  },
  {
   "cell_type": "code",
   "execution_count": null,
   "metadata": {},
   "outputs": [],
   "source": [
    "pipe_lookup_dict = {\n",
    "\"|\":{\"up\":(-1,0,\"up\"),\"down\":(1,0,\"down\")},\n",
    "\"-\":{\"left\":(0,-1,\"left\"),\"right\":(0,1,\"right\")},\n",
    "\"L\":{\"down\":(0,1,\"right\"),\"left\":(-1,0,\"up\")},\n",
    "\"J\":{\"down\":(0,-1,\"left\"),\"right\":(-1,0,\"up\")},\n",
    "\"7\":{\"up\":(0,-1,\"left\"),\"right\":(1,0,\"down\")},\n",
    "\"F\":{\"up\":(0,1,\"right\"),\"left\":(1,0,\"down\")},\n",
    "\".\":{}\n",
    "}\n",
    "def connected_pipe(pipe_grid,pos_dir):\n",
    "    row_num,col_num,dir = pos_dir\n",
    "    curr_pipe = pipe_grid[row_num][col_num]\n"
   ]
  },
  {
   "cell_type": "code",
   "execution_count": 2,
   "metadata": {},
   "outputs": [
    {
     "name": "stdout",
     "output_type": "stream",
     "text": [
      "(1, 1)\n"
     ]
    }
   ],
   "source": [
    "pipe_grid = []\n",
    "for line in test_case_1:\n",
    "    pipe_grid.append([x for x in line.replace(\"\\n\",\"\")])\n",
    "\n",
    "start_pos = ()\n",
    "for row_num,row in enumerate(pipe_grid):\n",
    "    for col_num,val in enumerate(row):\n",
    "        if val ==\"S\":\n",
    "            start_pos = (row_num,col_num)\n",
    "\n"
   ]
  },
  {
   "cell_type": "code",
   "execution_count": null,
   "metadata": {},
   "outputs": [],
   "source": []
  }
 ],
 "metadata": {
  "kernelspec": {
   "display_name": "Python 3",
   "language": "python",
   "name": "python3"
  },
  "language_info": {
   "codemirror_mode": {
    "name": "ipython",
    "version": 3
   },
   "file_extension": ".py",
   "mimetype": "text/x-python",
   "name": "python",
   "nbconvert_exporter": "python",
   "pygments_lexer": "ipython3",
   "version": "3.9.5"
  }
 },
 "nbformat": 4,
 "nbformat_minor": 2
}
