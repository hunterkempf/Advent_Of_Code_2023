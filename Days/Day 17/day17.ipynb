{
 "cells": [
  {
   "cell_type": "code",
   "execution_count": null,
   "metadata": {},
   "outputs": [],
   "source": []
  },
  {
   "cell_type": "code",
   "execution_count": 1,
   "metadata": {},
   "outputs": [],
   "source": [
    "test_lines = [\n",
    "\"2413432311323\",\n",
    "\"3215453535623\",\n",
    "\"3255245654254\",\n",
    "\"3446585845452\",\n",
    "\"4546657867536\",\n",
    "\"1438598798454\",\n",
    "\"4457876987766\",\n",
    "\"3637877979653\",\n",
    "\"4654967986887\",\n",
    "\"4564679986453\",\n",
    "\"1224686865563\",\n",
    "\"2546548887735\",\n",
    "\"4322674655533\"\n",
    "]"
   ]
  },
  {
   "cell_type": "code",
   "execution_count": 43,
   "metadata": {},
   "outputs": [],
   "source": [
    "moves_dir = {\n",
    "\"up\": set([\"left\",\"right\",\"up\"]),\n",
    "\"down\": set([\"left\",\"right\",\"down\"]),\n",
    "\"left\": set([\"up\",\"down\",\"left\"]),\n",
    "\"right\":set([\"up\",\"down\",\"right\"]),\n",
    "\"up_up_up\":set([\"up\"]),\n",
    "\"down_down_down\":set([\"down\"]),\n",
    "\"left_left_left\":set([\"left\"]),\n",
    "\"right_right_right\":set([\"right\"]),\n",
    "}\n",
    "move_updates = {\n",
    "\"up\":{\"row_num\":-1,\"col_num\":0},\n",
    "\"down\":{\"row_num\":1,\"col_num\":0},\n",
    "\"left\":{\"row_num\":0,\"col_num\":-1},\n",
    "\"right\":{\"row_num\":0,\"col_num\":1},\n",
    "}\n",
    "def calculate_heat_loss_path(lava_grid,curr_pos_dir,last_3_moves,moves_history):\n",
    "    print(curr_pos_dir,moves_history)\n",
    "    row_num,col_num,direction = curr_pos_dir\n",
    "    if row_num==len(lava_grid) and col_num==len(lava_grid[0]):\n",
    "        # found the end state\n",
    "        print(\"FOUND END STATE\")\n",
    "        del(last_3_moves[0])\n",
    "        last_3_moves.append(\"end\")\n",
    "        moves_history.append(\"end\")\n",
    "        return [int(lava_grid[row_num][col_num])]\n",
    "    \n",
    "    if len(moves_history)>10:\n",
    "        # in some weird loop\n",
    "        #add some big number so path isn't chosen\n",
    "        #print(moves_history)\n",
    "        del(last_3_moves[0])\n",
    "        last_3_moves.append(\"lost\")\n",
    "        moves_history.append(\"lost\")\n",
    "        print(moves_history)\n",
    "        return [10000000]\n",
    "\n",
    "    move_options = set(moves_dir[direction]).difference(moves_dir.get(f\"{last_3_moves[0]}_{last_3_moves[1]}_{last_3_moves[2]}\",set()))\n",
    "    if row_num==0:\n",
    "        #top edge\n",
    "        move_options = move_options.difference(set([\"up\"]))\n",
    "    elif row_num == (len(lava_grid)-1):\n",
    "        #bottom edge\n",
    "        move_options = move_options.difference(set([\"down\"]))\n",
    "    elif col_num==0:\n",
    "        #left edge\n",
    "        move_options = move_options.difference(set([\"left\"]))\n",
    "    elif col_num == (len(lava_grid[0])-1):\n",
    "        #right edge\n",
    "        move_options = move_options.difference(set([\"right\"]))\n",
    "    \n",
    "\n",
    "    heat_loss_path = []\n",
    "    for move_selection in move_options:\n",
    "        update_vals = move_updates[move_selection]\n",
    "        next_row_num = row_num + update_vals[\"row_num\"]\n",
    "        next_col_num = col_num + update_vals[\"col_num\"]\n",
    "        del(last_3_moves[0])\n",
    "        last_3_moves.append(move_selection)\n",
    "        temp_moves_history = moves_history\n",
    "        temp_moves_history.append(move_selection)\n",
    "        heat_loss_item = calculate_heat_loss_path(lava_grid,(next_row_num,next_col_num,move_selection),last_3_moves,temp_moves_history)\n",
    "        [heat_loss_path.append(x+int(lava_grid[row_num][col_num])) for x in heat_loss_item]\n",
    "    return heat_loss_path\n",
    "        \n"
   ]
  },
  {
   "cell_type": "code",
   "execution_count": 44,
   "metadata": {},
   "outputs": [
    {
     "data": {
      "text/plain": [
       "[['2', '4', '1', '3', '4', '3', '2', '3', '1', '1', '3', '2', '3'],\n",
       " ['3', '2', '1', '5', '4', '5', '3', '5', '3', '5', '6', '2', '3'],\n",
       " ['3', '2', '5', '5', '2', '4', '5', '6', '5', '4', '2', '5', '4'],\n",
       " ['3', '4', '4', '6', '5', '8', '5', '8', '4', '5', '4', '5', '2'],\n",
       " ['4', '5', '4', '6', '6', '5', '7', '8', '6', '7', '5', '3', '6'],\n",
       " ['1', '4', '3', '8', '5', '9', '8', '7', '9', '8', '4', '5', '4'],\n",
       " ['4', '4', '5', '7', '8', '7', '6', '9', '8', '7', '7', '6', '6'],\n",
       " ['3', '6', '3', '7', '8', '7', '7', '9', '7', '9', '6', '5', '3'],\n",
       " ['4', '6', '5', '4', '9', '6', '7', '9', '8', '6', '8', '8', '7'],\n",
       " ['4', '5', '6', '4', '6', '7', '9', '9', '8', '6', '4', '5', '3'],\n",
       " ['1', '2', '2', '4', '6', '8', '6', '8', '6', '5', '5', '6', '3'],\n",
       " ['2', '5', '4', '6', '5', '4', '8', '8', '8', '7', '7', '3', '5'],\n",
       " ['4', '3', '2', '2', '6', '7', '4', '6', '5', '5', '5', '3', '3']]"
      ]
     },
     "execution_count": 44,
     "metadata": {},
     "output_type": "execute_result"
    }
   ],
   "source": [
    "lava_grid = []\n",
    "for line in test_lines:\n",
    "    lava_grid.append([x for x in line.replace(\"\\n\",\"\")])\n",
    "lava_grid"
   ]
  },
  {
   "cell_type": "code",
   "execution_count": 46,
   "metadata": {},
   "outputs": [
    {
     "name": "stdout",
     "output_type": "stream",
     "text": [
      "(0, 0, 'right') ['right']\n",
      "(1, 0, 'down') ['right', 'down']\n",
      "(2, 0, 'down') ['right', 'down', 'down']\n",
      "(3, 0, 'down') ['right', 'down', 'down', 'down']\n",
      "(3, 1, 'right') ['right', 'down', 'down', 'down', 'right']\n",
      "(2, 1, 'up') ['right', 'down', 'down', 'down', 'right', 'up']\n",
      "(1, 1, 'up') ['right', 'down', 'down', 'down', 'right', 'up', 'up']\n",
      "(0, 1, 'up') ['right', 'down', 'down', 'down', 'right', 'up', 'up', 'up']\n",
      "(0, 0, 'left') ['right', 'down', 'down', 'down', 'right', 'up', 'up', 'up', 'left']\n",
      "(1, 0, 'down') ['right', 'down', 'down', 'down', 'right', 'up', 'up', 'up', 'left', 'down']\n",
      "(2, 0, 'down') ['right', 'down', 'down', 'down', 'right', 'up', 'up', 'up', 'left', 'down', 'down']\n",
      "['right', 'down', 'down', 'down', 'right', 'up', 'up', 'up', 'left', 'down', 'down', 'lost']\n",
      "(1, 1, 'right') ['right', 'down', 'down', 'down', 'right', 'up', 'up', 'up', 'left', 'down', 'down', 'lost', 'right']\n",
      "['right', 'down', 'down', 'down', 'right', 'up', 'up', 'up', 'left', 'down', 'down', 'lost', 'right', 'lost']\n",
      "(0, -1, 'left') ['right', 'down', 'down', 'down', 'right', 'up', 'up', 'up', 'left', 'down', 'down', 'lost', 'right', 'lost', 'left']\n",
      "['right', 'down', 'down', 'down', 'right', 'up', 'up', 'up', 'left', 'down', 'down', 'lost', 'right', 'lost', 'left', 'lost']\n",
      "(0, 2, 'right') ['right', 'down', 'down', 'down', 'right', 'up', 'up', 'up', 'left', 'down', 'down', 'lost', 'right', 'lost', 'left', 'lost', 'right']\n",
      "['right', 'down', 'down', 'down', 'right', 'up', 'up', 'up', 'left', 'down', 'down', 'lost', 'right', 'lost', 'left', 'lost', 'right', 'lost']\n",
      "(1, 0, 'left') ['right', 'down', 'down', 'down', 'right', 'up', 'up', 'up', 'left', 'down', 'down', 'lost', 'right', 'lost', 'left', 'lost', 'right', 'lost', 'left']\n",
      "['right', 'down', 'down', 'down', 'right', 'up', 'up', 'up', 'left', 'down', 'down', 'lost', 'right', 'lost', 'left', 'lost', 'right', 'lost', 'left', 'lost']\n",
      "(1, 2, 'right') ['right', 'down', 'down', 'down', 'right', 'up', 'up', 'up', 'left', 'down', 'down', 'lost', 'right', 'lost', 'left', 'lost', 'right', 'lost', 'left', 'lost', 'right']\n",
      "['right', 'down', 'down', 'down', 'right', 'up', 'up', 'up', 'left', 'down', 'down', 'lost', 'right', 'lost', 'left', 'lost', 'right', 'lost', 'left', 'lost', 'right', 'lost']\n",
      "(2, 0, 'left') ['right', 'down', 'down', 'down', 'right', 'up', 'up', 'up', 'left', 'down', 'down', 'lost', 'right', 'lost', 'left', 'lost', 'right', 'lost', 'left', 'lost', 'right', 'lost', 'left']\n",
      "['right', 'down', 'down', 'down', 'right', 'up', 'up', 'up', 'left', 'down', 'down', 'lost', 'right', 'lost', 'left', 'lost', 'right', 'lost', 'left', 'lost', 'right', 'lost', 'left', 'lost']\n",
      "(2, 2, 'right') ['right', 'down', 'down', 'down', 'right', 'up', 'up', 'up', 'left', 'down', 'down', 'lost', 'right', 'lost', 'left', 'lost', 'right', 'lost', 'left', 'lost', 'right', 'lost', 'left', 'lost', 'right']\n",
      "['right', 'down', 'down', 'down', 'right', 'up', 'up', 'up', 'left', 'down', 'down', 'lost', 'right', 'lost', 'left', 'lost', 'right', 'lost', 'left', 'lost', 'right', 'lost', 'left', 'lost', 'right', 'lost']\n",
      "(4, 1, 'down') ['right', 'down', 'down', 'down', 'right', 'up', 'up', 'up', 'left', 'down', 'down', 'lost', 'right', 'lost', 'left', 'lost', 'right', 'lost', 'left', 'lost', 'right', 'lost', 'left', 'lost', 'right', 'lost', 'down']\n",
      "['right', 'down', 'down', 'down', 'right', 'up', 'up', 'up', 'left', 'down', 'down', 'lost', 'right', 'lost', 'left', 'lost', 'right', 'lost', 'left', 'lost', 'right', 'lost', 'left', 'lost', 'right', 'lost', 'down', 'lost']\n",
      "(3, 2, 'right') ['right', 'down', 'down', 'down', 'right', 'up', 'up', 'up', 'left', 'down', 'down', 'lost', 'right', 'lost', 'left', 'lost', 'right', 'lost', 'left', 'lost', 'right', 'lost', 'left', 'lost', 'right', 'lost', 'down', 'lost', 'right']\n",
      "['right', 'down', 'down', 'down', 'right', 'up', 'up', 'up', 'left', 'down', 'down', 'lost', 'right', 'lost', 'left', 'lost', 'right', 'lost', 'left', 'lost', 'right', 'lost', 'left', 'lost', 'right', 'lost', 'down', 'lost', 'right', 'lost']\n",
      "(2, 1, 'right') ['right', 'down', 'down', 'down', 'right', 'up', 'up', 'up', 'left', 'down', 'down', 'lost', 'right', 'lost', 'left', 'lost', 'right', 'lost', 'left', 'lost', 'right', 'lost', 'left', 'lost', 'right', 'lost', 'down', 'lost', 'right', 'lost', 'right']\n",
      "['right', 'down', 'down', 'down', 'right', 'up', 'up', 'up', 'left', 'down', 'down', 'lost', 'right', 'lost', 'left', 'lost', 'right', 'lost', 'left', 'lost', 'right', 'lost', 'left', 'lost', 'right', 'lost', 'down', 'lost', 'right', 'lost', 'right', 'lost']\n",
      "(1, 1, 'right') ['right', 'down', 'down', 'down', 'right', 'up', 'up', 'up', 'left', 'down', 'down', 'lost', 'right', 'lost', 'left', 'lost', 'right', 'lost', 'left', 'lost', 'right', 'lost', 'left', 'lost', 'right', 'lost', 'down', 'lost', 'right', 'lost', 'right', 'lost', 'right']\n",
      "['right', 'down', 'down', 'down', 'right', 'up', 'up', 'up', 'left', 'down', 'down', 'lost', 'right', 'lost', 'left', 'lost', 'right', 'lost', 'left', 'lost', 'right', 'lost', 'left', 'lost', 'right', 'lost', 'down', 'lost', 'right', 'lost', 'right', 'lost', 'right', 'lost']\n",
      "(0, 1, 'right') ['right', 'down', 'down', 'down', 'right', 'up', 'up', 'up', 'left', 'down', 'down', 'lost', 'right', 'lost', 'left', 'lost', 'right', 'lost', 'left', 'lost', 'right', 'lost', 'left', 'lost', 'right', 'lost', 'down', 'lost', 'right', 'lost', 'right', 'lost', 'right', 'lost', 'right']\n",
      "['right', 'down', 'down', 'down', 'right', 'up', 'up', 'up', 'left', 'down', 'down', 'lost', 'right', 'lost', 'left', 'lost', 'right', 'lost', 'left', 'lost', 'right', 'lost', 'left', 'lost', 'right', 'lost', 'down', 'lost', 'right', 'lost', 'right', 'lost', 'right', 'lost', 'right', 'lost']\n"
     ]
    },
    {
     "data": {
      "text/plain": [
       "10000002"
      ]
     },
     "execution_count": 46,
     "metadata": {},
     "output_type": "execute_result"
    }
   ],
   "source": [
    "heat_loss_path= calculate_heat_loss_path(lava_grid,(0,0,\"right\"),[\"null\",\"null\",\"null\"],[\"right\"])\n",
    "min(heat_loss_path)"
   ]
  },
  {
   "cell_type": "code",
   "execution_count": null,
   "metadata": {},
   "outputs": [],
   "source": []
  }
 ],
 "metadata": {
  "kernelspec": {
   "display_name": "Python 3",
   "language": "python",
   "name": "python3"
  },
  "language_info": {
   "codemirror_mode": {
    "name": "ipython",
    "version": 3
   },
   "file_extension": ".py",
   "mimetype": "text/x-python",
   "name": "python",
   "nbconvert_exporter": "python",
   "pygments_lexer": "ipython3",
   "version": "3.9.5"
  }
 },
 "nbformat": 4,
 "nbformat_minor": 2
}
